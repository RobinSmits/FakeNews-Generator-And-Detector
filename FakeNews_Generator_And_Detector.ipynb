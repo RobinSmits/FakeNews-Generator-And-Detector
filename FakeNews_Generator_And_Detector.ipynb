{
  "nbformat": 4,
  "nbformat_minor": 0,
  "metadata": {
    "colab": {
      "name": "FakeNews_Generator_And_Detector.ipynb",
      "provenance": [],
      "collapsed_sections": [],
      "machine_shape": "hm",
      "authorship_tag": "ABX9TyMrP7Reee+isFjjH+QCRbHl",
      "include_colab_link": true
    },
    "kernelspec": {
      "display_name": "Python 3",
      "name": "python3"
    },
    "widgets": {
      "application/vnd.jupyter.widget-state+json": {
        "32919c22f79f4af59d27fa59bb4772a0": {
          "model_module": "@jupyter-widgets/controls",
          "model_name": "HBoxModel",
          "state": {
            "_view_name": "HBoxView",
            "_dom_classes": [],
            "_model_name": "HBoxModel",
            "_view_module": "@jupyter-widgets/controls",
            "_model_module_version": "1.5.0",
            "_view_count": null,
            "_view_module_version": "1.5.0",
            "box_style": "",
            "layout": "IPY_MODEL_b6f07018c00441cb8f848dc04af03cb9",
            "_model_module": "@jupyter-widgets/controls",
            "children": [
              "IPY_MODEL_f2d2cdfdd3684048ae5a1d07dd445324",
              "IPY_MODEL_38895d12f1124935bddf867ac72385e7"
            ]
          }
        },
        "b6f07018c00441cb8f848dc04af03cb9": {
          "model_module": "@jupyter-widgets/base",
          "model_name": "LayoutModel",
          "state": {
            "_view_name": "LayoutView",
            "grid_template_rows": null,
            "right": null,
            "justify_content": null,
            "_view_module": "@jupyter-widgets/base",
            "overflow": null,
            "_model_module_version": "1.2.0",
            "_view_count": null,
            "flex_flow": null,
            "width": null,
            "min_width": null,
            "border": null,
            "align_items": null,
            "bottom": null,
            "_model_module": "@jupyter-widgets/base",
            "top": null,
            "grid_column": null,
            "overflow_y": null,
            "overflow_x": null,
            "grid_auto_flow": null,
            "grid_area": null,
            "grid_template_columns": null,
            "flex": null,
            "_model_name": "LayoutModel",
            "justify_items": null,
            "grid_row": null,
            "max_height": null,
            "align_content": null,
            "visibility": null,
            "align_self": null,
            "height": null,
            "min_height": null,
            "padding": null,
            "grid_auto_rows": null,
            "grid_gap": null,
            "max_width": null,
            "order": null,
            "_view_module_version": "1.2.0",
            "grid_template_areas": null,
            "object_position": null,
            "object_fit": null,
            "grid_auto_columns": null,
            "margin": null,
            "display": null,
            "left": null
          }
        },
        "f2d2cdfdd3684048ae5a1d07dd445324": {
          "model_module": "@jupyter-widgets/controls",
          "model_name": "FloatProgressModel",
          "state": {
            "_view_name": "ProgressView",
            "style": "IPY_MODEL_0c74caceff3b4135899897de32a6edc3",
            "_dom_classes": [],
            "description": "100%",
            "_model_name": "FloatProgressModel",
            "bar_style": "success",
            "max": 7600,
            "_view_module": "@jupyter-widgets/controls",
            "_model_module_version": "1.5.0",
            "value": 7600,
            "_view_count": null,
            "_view_module_version": "1.5.0",
            "orientation": "horizontal",
            "min": 0,
            "description_tooltip": null,
            "_model_module": "@jupyter-widgets/controls",
            "layout": "IPY_MODEL_a1e0aac8851f4aaf9a99b0e967d60d5e"
          }
        },
        "38895d12f1124935bddf867ac72385e7": {
          "model_module": "@jupyter-widgets/controls",
          "model_name": "HTMLModel",
          "state": {
            "_view_name": "HTMLView",
            "style": "IPY_MODEL_7291d9aa9f344644bf76f3d29ff65969",
            "_dom_classes": [],
            "description": "",
            "_model_name": "HTMLModel",
            "placeholder": "​",
            "_view_module": "@jupyter-widgets/controls",
            "_model_module_version": "1.5.0",
            "value": " 7600/7600 [2:16:06&lt;00:00,  1.07s/it]",
            "_view_count": null,
            "_view_module_version": "1.5.0",
            "description_tooltip": null,
            "_model_module": "@jupyter-widgets/controls",
            "layout": "IPY_MODEL_8a5d124a52ad4e7885cdfe7573b4ff74"
          }
        },
        "0c74caceff3b4135899897de32a6edc3": {
          "model_module": "@jupyter-widgets/controls",
          "model_name": "ProgressStyleModel",
          "state": {
            "_view_name": "StyleView",
            "_model_name": "ProgressStyleModel",
            "description_width": "initial",
            "_view_module": "@jupyter-widgets/base",
            "_model_module_version": "1.5.0",
            "_view_count": null,
            "_view_module_version": "1.2.0",
            "bar_color": null,
            "_model_module": "@jupyter-widgets/controls"
          }
        },
        "a1e0aac8851f4aaf9a99b0e967d60d5e": {
          "model_module": "@jupyter-widgets/base",
          "model_name": "LayoutModel",
          "state": {
            "_view_name": "LayoutView",
            "grid_template_rows": null,
            "right": null,
            "justify_content": null,
            "_view_module": "@jupyter-widgets/base",
            "overflow": null,
            "_model_module_version": "1.2.0",
            "_view_count": null,
            "flex_flow": null,
            "width": null,
            "min_width": null,
            "border": null,
            "align_items": null,
            "bottom": null,
            "_model_module": "@jupyter-widgets/base",
            "top": null,
            "grid_column": null,
            "overflow_y": null,
            "overflow_x": null,
            "grid_auto_flow": null,
            "grid_area": null,
            "grid_template_columns": null,
            "flex": null,
            "_model_name": "LayoutModel",
            "justify_items": null,
            "grid_row": null,
            "max_height": null,
            "align_content": null,
            "visibility": null,
            "align_self": null,
            "height": null,
            "min_height": null,
            "padding": null,
            "grid_auto_rows": null,
            "grid_gap": null,
            "max_width": null,
            "order": null,
            "_view_module_version": "1.2.0",
            "grid_template_areas": null,
            "object_position": null,
            "object_fit": null,
            "grid_auto_columns": null,
            "margin": null,
            "display": null,
            "left": null
          }
        },
        "7291d9aa9f344644bf76f3d29ff65969": {
          "model_module": "@jupyter-widgets/controls",
          "model_name": "DescriptionStyleModel",
          "state": {
            "_view_name": "StyleView",
            "_model_name": "DescriptionStyleModel",
            "description_width": "",
            "_view_module": "@jupyter-widgets/base",
            "_model_module_version": "1.5.0",
            "_view_count": null,
            "_view_module_version": "1.2.0",
            "_model_module": "@jupyter-widgets/controls"
          }
        },
        "8a5d124a52ad4e7885cdfe7573b4ff74": {
          "model_module": "@jupyter-widgets/base",
          "model_name": "LayoutModel",
          "state": {
            "_view_name": "LayoutView",
            "grid_template_rows": null,
            "right": null,
            "justify_content": null,
            "_view_module": "@jupyter-widgets/base",
            "overflow": null,
            "_model_module_version": "1.2.0",
            "_view_count": null,
            "flex_flow": null,
            "width": null,
            "min_width": null,
            "border": null,
            "align_items": null,
            "bottom": null,
            "_model_module": "@jupyter-widgets/base",
            "top": null,
            "grid_column": null,
            "overflow_y": null,
            "overflow_x": null,
            "grid_auto_flow": null,
            "grid_area": null,
            "grid_template_columns": null,
            "flex": null,
            "_model_name": "LayoutModel",
            "justify_items": null,
            "grid_row": null,
            "max_height": null,
            "align_content": null,
            "visibility": null,
            "align_self": null,
            "height": null,
            "min_height": null,
            "padding": null,
            "grid_auto_rows": null,
            "grid_gap": null,
            "max_width": null,
            "order": null,
            "_view_module_version": "1.2.0",
            "grid_template_areas": null,
            "object_position": null,
            "object_fit": null,
            "grid_auto_columns": null,
            "margin": null,
            "display": null,
            "left": null
          }
        },
        "e28f4fea599641d3b8aa886bfd5109f8": {
          "model_module": "@jupyter-widgets/controls",
          "model_name": "HBoxModel",
          "state": {
            "_view_name": "HBoxView",
            "_dom_classes": [],
            "_model_name": "HBoxModel",
            "_view_module": "@jupyter-widgets/controls",
            "_model_module_version": "1.5.0",
            "_view_count": null,
            "_view_module_version": "1.5.0",
            "box_style": "",
            "layout": "IPY_MODEL_aebd405301dd44588922e3630c67a681",
            "_model_module": "@jupyter-widgets/controls",
            "children": [
              "IPY_MODEL_4952d00c69944399b089373eb8628753",
              "IPY_MODEL_0b0f6cb2e0b949f78b9b22d5e9ea3e30"
            ]
          }
        },
        "aebd405301dd44588922e3630c67a681": {
          "model_module": "@jupyter-widgets/base",
          "model_name": "LayoutModel",
          "state": {
            "_view_name": "LayoutView",
            "grid_template_rows": null,
            "right": null,
            "justify_content": null,
            "_view_module": "@jupyter-widgets/base",
            "overflow": null,
            "_model_module_version": "1.2.0",
            "_view_count": null,
            "flex_flow": null,
            "width": null,
            "min_width": null,
            "border": null,
            "align_items": null,
            "bottom": null,
            "_model_module": "@jupyter-widgets/base",
            "top": null,
            "grid_column": null,
            "overflow_y": null,
            "overflow_x": null,
            "grid_auto_flow": null,
            "grid_area": null,
            "grid_template_columns": null,
            "flex": null,
            "_model_name": "LayoutModel",
            "justify_items": null,
            "grid_row": null,
            "max_height": null,
            "align_content": null,
            "visibility": null,
            "align_self": null,
            "height": null,
            "min_height": null,
            "padding": null,
            "grid_auto_rows": null,
            "grid_gap": null,
            "max_width": null,
            "order": null,
            "_view_module_version": "1.2.0",
            "grid_template_areas": null,
            "object_position": null,
            "object_fit": null,
            "grid_auto_columns": null,
            "margin": null,
            "display": null,
            "left": null
          }
        },
        "4952d00c69944399b089373eb8628753": {
          "model_module": "@jupyter-widgets/controls",
          "model_name": "FloatProgressModel",
          "state": {
            "_view_name": "ProgressView",
            "style": "IPY_MODEL_f3c3f03eff4545c1ba5a65bbd7ef5f77",
            "_dom_classes": [],
            "description": "100%",
            "_model_name": "FloatProgressModel",
            "bar_style": "success",
            "max": 15200,
            "_view_module": "@jupyter-widgets/controls",
            "_model_module_version": "1.5.0",
            "value": 15200,
            "_view_count": null,
            "_view_module_version": "1.5.0",
            "orientation": "horizontal",
            "min": 0,
            "description_tooltip": null,
            "_model_module": "@jupyter-widgets/controls",
            "layout": "IPY_MODEL_d550bd9e5ca24449aeb7a67fe886766c"
          }
        },
        "0b0f6cb2e0b949f78b9b22d5e9ea3e30": {
          "model_module": "@jupyter-widgets/controls",
          "model_name": "HTMLModel",
          "state": {
            "_view_name": "HTMLView",
            "style": "IPY_MODEL_4350da6363574a3a9d0a06c10af14894",
            "_dom_classes": [],
            "description": "",
            "_model_name": "HTMLModel",
            "placeholder": "​",
            "_view_module": "@jupyter-widgets/controls",
            "_model_module_version": "1.5.0",
            "value": " 15200/15200 [00:09&lt;00:00, 1543.85it/s]",
            "_view_count": null,
            "_view_module_version": "1.5.0",
            "description_tooltip": null,
            "_model_module": "@jupyter-widgets/controls",
            "layout": "IPY_MODEL_6a1d35bcf6bc4272b764d8bc39780fb2"
          }
        },
        "f3c3f03eff4545c1ba5a65bbd7ef5f77": {
          "model_module": "@jupyter-widgets/controls",
          "model_name": "ProgressStyleModel",
          "state": {
            "_view_name": "StyleView",
            "_model_name": "ProgressStyleModel",
            "description_width": "initial",
            "_view_module": "@jupyter-widgets/base",
            "_model_module_version": "1.5.0",
            "_view_count": null,
            "_view_module_version": "1.2.0",
            "bar_color": null,
            "_model_module": "@jupyter-widgets/controls"
          }
        },
        "d550bd9e5ca24449aeb7a67fe886766c": {
          "model_module": "@jupyter-widgets/base",
          "model_name": "LayoutModel",
          "state": {
            "_view_name": "LayoutView",
            "grid_template_rows": null,
            "right": null,
            "justify_content": null,
            "_view_module": "@jupyter-widgets/base",
            "overflow": null,
            "_model_module_version": "1.2.0",
            "_view_count": null,
            "flex_flow": null,
            "width": null,
            "min_width": null,
            "border": null,
            "align_items": null,
            "bottom": null,
            "_model_module": "@jupyter-widgets/base",
            "top": null,
            "grid_column": null,
            "overflow_y": null,
            "overflow_x": null,
            "grid_auto_flow": null,
            "grid_area": null,
            "grid_template_columns": null,
            "flex": null,
            "_model_name": "LayoutModel",
            "justify_items": null,
            "grid_row": null,
            "max_height": null,
            "align_content": null,
            "visibility": null,
            "align_self": null,
            "height": null,
            "min_height": null,
            "padding": null,
            "grid_auto_rows": null,
            "grid_gap": null,
            "max_width": null,
            "order": null,
            "_view_module_version": "1.2.0",
            "grid_template_areas": null,
            "object_position": null,
            "object_fit": null,
            "grid_auto_columns": null,
            "margin": null,
            "display": null,
            "left": null
          }
        },
        "4350da6363574a3a9d0a06c10af14894": {
          "model_module": "@jupyter-widgets/controls",
          "model_name": "DescriptionStyleModel",
          "state": {
            "_view_name": "StyleView",
            "_model_name": "DescriptionStyleModel",
            "description_width": "",
            "_view_module": "@jupyter-widgets/base",
            "_model_module_version": "1.5.0",
            "_view_count": null,
            "_view_module_version": "1.2.0",
            "_model_module": "@jupyter-widgets/controls"
          }
        },
        "6a1d35bcf6bc4272b764d8bc39780fb2": {
          "model_module": "@jupyter-widgets/base",
          "model_name": "LayoutModel",
          "state": {
            "_view_name": "LayoutView",
            "grid_template_rows": null,
            "right": null,
            "justify_content": null,
            "_view_module": "@jupyter-widgets/base",
            "overflow": null,
            "_model_module_version": "1.2.0",
            "_view_count": null,
            "flex_flow": null,
            "width": null,
            "min_width": null,
            "border": null,
            "align_items": null,
            "bottom": null,
            "_model_module": "@jupyter-widgets/base",
            "top": null,
            "grid_column": null,
            "overflow_y": null,
            "overflow_x": null,
            "grid_auto_flow": null,
            "grid_area": null,
            "grid_template_columns": null,
            "flex": null,
            "_model_name": "LayoutModel",
            "justify_items": null,
            "grid_row": null,
            "max_height": null,
            "align_content": null,
            "visibility": null,
            "align_self": null,
            "height": null,
            "min_height": null,
            "padding": null,
            "grid_auto_rows": null,
            "grid_gap": null,
            "max_width": null,
            "order": null,
            "_view_module_version": "1.2.0",
            "grid_template_areas": null,
            "object_position": null,
            "object_fit": null,
            "grid_auto_columns": null,
            "margin": null,
            "display": null,
            "left": null
          }
        }
      }
    },
    "accelerator": "GPU"
  },
  "cells": [
    {
      "cell_type": "markdown",
      "metadata": {
        "id": "view-in-github",
        "colab_type": "text"
      },
      "source": [
        "<a href=\"https://colab.research.google.com/github/RobinSmits/FakeNews-Generator-And-Detector/blob/main/FakeNews_Generator_And_Detector.ipynb\" target=\"_parent\"><img src=\"https://colab.research.google.com/assets/colab-badge.svg\" alt=\"Open In Colab\"/></a>"
      ]
    },
    {
      "cell_type": "markdown",
      "metadata": {
        "id": "F699OjelNmKc"
      },
      "source": [
        "In this last notebook we will use the 'test' part of the 'ag_news_subset' dataset. It contains 7600 rows with data that both the T5 and RoBERTa model have never seen before.\n",
        "\n",
        "We will again use the T5 model to use the 'title' as input and generate fake news. The generated output is stored in the file 't5_generated_fake_news_final.csv'.\n",
        "\n",
        "As a final and last step the RoBERTa model will classify the input into real or fake news."
      ]
    },
    {
      "cell_type": "code",
      "metadata": {
        "id": "yFLz1oijbeuR"
      },
      "source": [
        "import numpy as np\n",
        "import os\n",
        "import pandas as pd\n",
        "from tqdm.notebook import tqdm\n",
        "from urllib.request import urlopen\n",
        "import tarfile\n",
        "\n",
        "# Install Specific Versions\n",
        "!pip install -q tensorflow==2.4.1\n",
        "!pip install -q tensorflow-datasets==4.1.0\n",
        "!pip install -q transformers==4.4.2\n",
        "!pip install -q sentencepiece==0.1.95\n",
        "\n",
        "# Import Packages\n",
        "import tensorflow as tf\n",
        "import tensorflow_datasets as tfds\n",
        "from transformers import *\n",
        "import sentencepiece\n",
        "from sklearn.metrics import classification_report"
      ],
      "execution_count": 1,
      "outputs": []
    },
    {
      "cell_type": "markdown",
      "metadata": {
        "id": "RuBfy07APN5y"
      },
      "source": [
        "I've created and tested these notebooks on Google Colab Pro and used Google Drive to store and load any files created. \n",
        "\n",
        "If you run the code locally on a computer then modify the 'WORK_DIR' accordingly. Google Drive will not be needed in that case."
      ]
    },
    {
      "cell_type": "code",
      "metadata": {
        "colab": {
          "base_uri": "https://localhost:8080/"
        },
        "id": "2RjCDJ7YzUdX",
        "outputId": "f66c8bde-cacf-4b43-c483-3dcee2c22671"
      },
      "source": [
        "# Mount Google Drive\n",
        "from google.colab import drive\n",
        "drive.mount('/content/drive')\n",
        "\n",
        "# Set Folder to use...\n",
        "WORK_DIR = '/content/drive/My Drive/fake_news/'\n",
        "os.makedirs(WORK_DIR, exist_ok = True) "
      ],
      "execution_count": 2,
      "outputs": [
        {
          "output_type": "stream",
          "text": [
            "Drive already mounted at /content/drive; to attempt to forcibly remount, call drive.mount(\"/content/drive\", force_remount=True).\n"
          ],
          "name": "stdout"
        }
      ]
    },
    {
      "cell_type": "markdown",
      "metadata": {
        "id": "RmggOdZ4PjeJ"
      },
      "source": [
        "Next we set some config for the device to use (Note: This notebook runs on TPU/GPU and CPU) We also set the necessary constants. \n",
        "\n",
        "And all the necessary information for the T5 and RoBERTa models will be set."
      ]
    },
    {
      "cell_type": "code",
      "metadata": {
        "colab": {
          "base_uri": "https://localhost:8080/"
        },
        "id": "_7jUGKre059v",
        "outputId": "5a00b103-846a-43a6-ea04-c7babad08990"
      },
      "source": [
        "# Configure Strategy. Assume TPU...if not set default for GPU/CPU\n",
        "try:\n",
        "    tpu = tf.distribute.cluster_resolver.TPUClusterResolver()\n",
        "    tf.config.experimental_connect_to_cluster(tpu)\n",
        "    tf.tpu.experimental.initialize_tpu_system(tpu)\n",
        "    strategy = tf.distribute.TPUStrategy(tpu)\n",
        "except ValueError:\n",
        "    strategy = tf.distribute.get_strategy()\n",
        "\n",
        "# Set Auto Tune\n",
        "AUTO = tf.data.experimental.AUTOTUNE\n",
        "\n",
        "# Supress Warnings\n",
        "tf.autograph.set_verbosity(0, False)\n",
        "\n",
        "# Set Pandas Display Options\n",
        "pd.set_option('display.max_colwidth', 256)\n",
        "\n",
        "# Constants\n",
        "MAX_LEN = 512\n",
        "VERBOSE = 1\n",
        "\n",
        "# Batch Size\n",
        "GENERATE_BATCH_SIZE = 19 * strategy.num_replicas_in_sync\n",
        "PREDICT_BATCH_SIZE = 16 * strategy.num_replicas_in_sync\n",
        "print(f'Predict Batch Size: {PREDICT_BATCH_SIZE}')\n",
        "print(f'Generate Batch Size: {GENERATE_BATCH_SIZE}')"
      ],
      "execution_count": 3,
      "outputs": [
        {
          "output_type": "stream",
          "text": [
            "Predict Batch Size: 16\n",
            "Generate Batch Size: 19\n"
          ],
          "name": "stdout"
        }
      ]
    },
    {
      "cell_type": "code",
      "metadata": {
        "colab": {
          "base_uri": "https://localhost:8080/"
        },
        "id": "9uo-X6tmsIfo",
        "outputId": "56f1a57d-b965-465c-cb7e-0a94cddd1d36"
      },
      "source": [
        "# Set T5 Type\n",
        "t5_size = 't5-base'\n",
        "print(f'T5 Model Type: {t5_size}')\n",
        "\n",
        "# Set T5 Task Name\n",
        "task_name = 'generate fake news: '\n",
        "print(f'T5 Task Name: {task_name}')\n",
        "\n",
        "# Set T5 Config\n",
        "t5_config = T5Config.from_pretrained(t5_size)\n",
        "\n",
        "# Set T5 Tokenizer\n",
        "t5_tokenizer = T5Tokenizer.from_pretrained(t5_size, return_dict = True)"
      ],
      "execution_count": 4,
      "outputs": [
        {
          "output_type": "stream",
          "text": [
            "T5 Model Type: t5-base\n",
            "T5 Task Name: generate fake news: \n"
          ],
          "name": "stdout"
        }
      ]
    },
    {
      "cell_type": "code",
      "metadata": {
        "colab": {
          "base_uri": "https://localhost:8080/"
        },
        "id": "dZ2_4tNAsvuq",
        "outputId": "ba40ef9d-706c-424c-9d2d-24e4e7859e59"
      },
      "source": [
        "# Set RoBERTa Type\n",
        "roberta_type = 'roberta-base'\n",
        "print(f'RoBERTa Model Type: {roberta_type}')\n",
        "\n",
        "# Set RoBERTa Config\n",
        "roberta_config = RobertaConfig.from_pretrained(roberta_type, num_labels = 2) # Binary classification so set num_labels = 2\n",
        "\n",
        "# Set RoBERTa Tokenizer\n",
        "roberta_tokenizer = RobertaTokenizer.from_pretrained(roberta_type, \n",
        "                                                     add_prefix_space = False,\n",
        "                                                     do_lower_case = False)"
      ],
      "execution_count": 5,
      "outputs": [
        {
          "output_type": "stream",
          "text": [
            "RoBERTa Model Type: roberta-base\n"
          ],
          "name": "stdout"
        }
      ]
    },
    {
      "cell_type": "markdown",
      "metadata": {
        "id": "VFRgK6UkQLrh"
      },
      "source": [
        "For Generation we will use the 'test' set part of the Tensorflow Dataset 'ag_news_subset'. It contains a train set of 120K rows and a test set of 7600 rows.\n",
        "\n",
        "Both the T5 and RoBERTa model have never been trained on the 'test' set part of the data. It is completely unseen to both models.\n",
        "\n",
        "Each row contains a 'title' which is a news paper headline and a 'description' which is a short part of the news paper article.\n",
        "\n",
        "The 'title' will be used as input for the T5 model to generate the fake news.\n",
        "\n",
        "!! Note: I've experienced multiple times that on the initial download of the dataset an error occurs. If you run it again it will just work..."
      ]
    },
    {
      "cell_type": "code",
      "metadata": {
        "colab": {
          "base_uri": "https://localhost:8080/",
          "height": 265
        },
        "id": "Y_loVwvTvP2i",
        "outputId": "66e5d47d-eacd-4d3f-a170-9212033d056a"
      },
      "source": [
        "# AG News Subset Download URL from TFDS\n",
        "AGNEWSSUBSET_URL = 'https://drive.google.com/uc?export=download&id=0Bz8a_Dbh9QhbUDNpeUdjb0wxRms'\n",
        "AGNEWSSUBSET_DIR = '/tmp/agnewssubet/'\n",
        "\n",
        "# Download Tar.Gz File and Extract\n",
        "with urlopen(AGNEWSSUBSET_URL) as targzstream:\n",
        "    thetarfile = tarfile.open(fileobj = targzstream, mode=\"r|gz\")\n",
        "    thetarfile.extractall(AGNEWSSUBSET_DIR)\n",
        "    \n",
        "# List Dataset files\n",
        "agnewssubset_files = os.listdir(AGNEWSSUBSET_DIR + 'ag_news_csv/')\n",
        "\n",
        "# Load Test Csv\n",
        "test_df = pd.read_csv(AGNEWSSUBSET_DIR + 'ag_news_csv/test.csv', names = ['label', 'title', 'description'])\n",
        "\n",
        "# Add column for generated text\n",
        "test_df['generated_description'] = ''\n",
        "\n",
        "# Samples\n",
        "total_samples = test_df.shape[0] \n",
        "print(f'Total Samples: {total_samples}')\n",
        "\n",
        "# Summary\n",
        "test_df.head()"
      ],
      "execution_count": 6,
      "outputs": [
        {
          "output_type": "stream",
          "text": [
            "Total Samples: 7600\n"
          ],
          "name": "stdout"
        },
        {
          "output_type": "execute_result",
          "data": {
            "text/html": [
              "<div>\n",
              "<style scoped>\n",
              "    .dataframe tbody tr th:only-of-type {\n",
              "        vertical-align: middle;\n",
              "    }\n",
              "\n",
              "    .dataframe tbody tr th {\n",
              "        vertical-align: top;\n",
              "    }\n",
              "\n",
              "    .dataframe thead th {\n",
              "        text-align: right;\n",
              "    }\n",
              "</style>\n",
              "<table border=\"1\" class=\"dataframe\">\n",
              "  <thead>\n",
              "    <tr style=\"text-align: right;\">\n",
              "      <th></th>\n",
              "      <th>label</th>\n",
              "      <th>title</th>\n",
              "      <th>description</th>\n",
              "      <th>generated_description</th>\n",
              "    </tr>\n",
              "  </thead>\n",
              "  <tbody>\n",
              "    <tr>\n",
              "      <th>0</th>\n",
              "      <td>3</td>\n",
              "      <td>Fears for T N pension after talks</td>\n",
              "      <td>Unions representing workers at Turner   Newall say they are 'disappointed' after talks with stricken parent firm Federal Mogul.</td>\n",
              "      <td></td>\n",
              "    </tr>\n",
              "    <tr>\n",
              "      <th>1</th>\n",
              "      <td>4</td>\n",
              "      <td>The Race is On: Second Private Team Sets Launch Date for Human Spaceflight (SPACE.com)</td>\n",
              "      <td>SPACE.com - TORONTO, Canada -- A second\\team of rocketeers competing for the  #36;10 million Ansari X Prize, a contest for\\privately funded suborbital space flight, has officially announced the first\\launch date for its manned rocket.</td>\n",
              "      <td></td>\n",
              "    </tr>\n",
              "    <tr>\n",
              "      <th>2</th>\n",
              "      <td>4</td>\n",
              "      <td>Ky. Company Wins Grant to Study Peptides (AP)</td>\n",
              "      <td>AP - A company founded by a chemistry researcher at the University of Louisville won a grant to develop a method of producing better peptides, which are short chains of amino acids, the building blocks of proteins.</td>\n",
              "      <td></td>\n",
              "    </tr>\n",
              "    <tr>\n",
              "      <th>3</th>\n",
              "      <td>4</td>\n",
              "      <td>Prediction Unit Helps Forecast Wildfires (AP)</td>\n",
              "      <td>AP - It's barely dawn when Mike Fitzpatrick starts his shift with a blur of colorful maps, figures and endless charts, but already he knows what the day will bring. Lightning will strike in places he expects. Winds will pick up, moist places will dry a...</td>\n",
              "      <td></td>\n",
              "    </tr>\n",
              "    <tr>\n",
              "      <th>4</th>\n",
              "      <td>4</td>\n",
              "      <td>Calif. Aims to Limit Farm-Related Smog (AP)</td>\n",
              "      <td>AP - Southern California's smog-fighting agency went after emissions of the bovine variety Friday, adopting the nation's first rules to reduce air pollution from dairy cow manure.</td>\n",
              "      <td></td>\n",
              "    </tr>\n",
              "  </tbody>\n",
              "</table>\n",
              "</div>"
            ],
            "text/plain": [
              "   label  ... generated_description\n",
              "0      3  ...                      \n",
              "1      4  ...                      \n",
              "2      4  ...                      \n",
              "3      4  ...                      \n",
              "4      4  ...                      \n",
              "\n",
              "[5 rows x 4 columns]"
            ]
          },
          "metadata": {
            "tags": []
          },
          "execution_count": 6
        }
      ]
    },
    {
      "cell_type": "markdown",
      "metadata": {
        "id": "NCHCNR_lRm7V"
      },
      "source": [
        "Create the Keras Model to be used for T5."
      ]
    },
    {
      "cell_type": "code",
      "metadata": {
        "id": "7WmEQKkVSkzZ"
      },
      "source": [
        "class KerasTFT5ForConditionalGeneration(TFT5ForConditionalGeneration):\n",
        "    def __init__(self, *args, log_dir = None, cache_dir = None, **kwargs):\n",
        "        super().__init__(*args, **kwargs)\n",
        "        self.loss_tracker= tf.keras.metrics.Mean(name='loss') \n",
        "    \n",
        "    @tf.function\n",
        "    def train_step(self, data):\n",
        "        x = data[0]\n",
        "        y = x['labels']\n",
        "        y = tf.reshape(y, [-1, 1])\n",
        "        with tf.GradientTape() as tape:\n",
        "            outputs = self(x, training = True)\n",
        "            loss = outputs[0]\n",
        "            logits = outputs[1]\n",
        "            loss = tf.reduce_mean(loss)\n",
        "            grads = tape.gradient(loss, self.trainable_variables)\n",
        "            \n",
        "        self.optimizer.apply_gradients(zip(grads, self.trainable_variables))\n",
        "        self.loss_tracker.update_state(loss)        \n",
        "        self.compiled_metrics.update_state(y, logits)\n",
        "        metrics = {m.name: m.result() for m in self.metrics}\n",
        "        \n",
        "        return metrics\n",
        "\n",
        "    def test_step(self, data):\n",
        "        x = data[0]\n",
        "        y = x[\"labels\"]\n",
        "        y = tf.reshape(y, [-1, 1])\n",
        "        output = self(x, training = False)\n",
        "        loss = output[0]\n",
        "        loss = tf.reduce_mean(loss)\n",
        "        logits = output[1]\n",
        "        \n",
        "        self.loss_tracker.update_state(loss)\n",
        "        metrics = self.compiled_metrics.update_state(y, logits)\n",
        "        \n",
        "        return metrics"
      ],
      "execution_count": 7,
      "outputs": []
    },
    {
      "cell_type": "markdown",
      "metadata": {
        "id": "LMPlLI2NRzcv"
      },
      "source": [
        "Next create the model and load the weights file."
      ]
    },
    {
      "cell_type": "code",
      "metadata": {
        "colab": {
          "base_uri": "https://localhost:8080/"
        },
        "id": "STDVTd6gUmN3",
        "outputId": "df118a1e-eab3-4300-b375-a0005d273e5d"
      },
      "source": [
        "# Create Model\n",
        "with strategy.scope():\n",
        "    model = KerasTFT5ForConditionalGeneration.from_pretrained(t5_size, config = t5_config)\n",
        "    model.compile(optimizer = tf.keras.optimizers.Adam(), \n",
        "                  metrics = [tf.keras.metrics.SparseTopKCategoricalAccuracy(name = 'accuracy')])\n",
        "\n",
        "# Summary\n",
        "model.summary()\n",
        "\n",
        "# Load Weights\n",
        "model.load_weights(WORK_DIR + 't5_base_model.h5')"
      ],
      "execution_count": 8,
      "outputs": [
        {
          "output_type": "stream",
          "text": [
            "All model checkpoint layers were used when initializing KerasTFT5ForConditionalGeneration.\n",
            "\n",
            "All the layers of KerasTFT5ForConditionalGeneration were initialized from the model checkpoint at t5-base.\n",
            "If your task is similar to the task the model of the checkpoint was trained on, you can already use KerasTFT5ForConditionalGeneration for predictions without further training.\n"
          ],
          "name": "stderr"
        },
        {
          "output_type": "stream",
          "text": [
            "Model: \"keras_tf_t5for_conditional_generation\"\n",
            "_________________________________________________________________\n",
            "Layer (type)                 Output Shape              Param #   \n",
            "=================================================================\n",
            "shared (TFSharedEmbeddings)  multiple                  24674304  \n",
            "_________________________________________________________________\n",
            "encoder (TFT5MainLayer)      multiple                  84954240  \n",
            "_________________________________________________________________\n",
            "decoder (TFT5MainLayer)      multiple                  113275008 \n",
            "=================================================================\n",
            "Total params: 222,903,554\n",
            "Trainable params: 222,903,552\n",
            "Non-trainable params: 2\n",
            "_________________________________________________________________\n"
          ],
          "name": "stdout"
        }
      ]
    },
    {
      "cell_type": "markdown",
      "metadata": {
        "id": "h2P-u98LSWMt"
      },
      "source": [
        "Use the test_ds to prepare the final dataframe that will be saved to disk after the fake news generation."
      ]
    },
    {
      "cell_type": "markdown",
      "metadata": {
        "id": "Nkk4evffSkLN"
      },
      "source": [
        "Perform the text generation based on the prepared dataframe. Note that the 'title' is used as input. The generated fake news will be stored in the dataframe 'generated' column.\n",
        "\n",
        "The dataframe is saved to storage for reference."
      ]
    },
    {
      "cell_type": "code",
      "metadata": {
        "colab": {
          "base_uri": "https://localhost:8080/",
          "height": 331,
          "referenced_widgets": [
            "32919c22f79f4af59d27fa59bb4772a0",
            "b6f07018c00441cb8f848dc04af03cb9",
            "f2d2cdfdd3684048ae5a1d07dd445324",
            "38895d12f1124935bddf867ac72385e7",
            "0c74caceff3b4135899897de32a6edc3",
            "a1e0aac8851f4aaf9a99b0e967d60d5e",
            "7291d9aa9f344644bf76f3d29ff65969",
            "8a5d124a52ad4e7885cdfe7573b4ff74"
          ]
        },
        "id": "0q1fuOFURlwP",
        "outputId": "6b0a07ff-6b69-4afc-f934-41e79d01e1f8"
      },
      "source": [
        "text_list = None\n",
        "generated = []\n",
        "\n",
        "for index, row in tqdm(zip(range(total_samples), test_df.iterrows()), total = total_samples):\n",
        "    index += 1\n",
        "\n",
        "    if text_list is None:\n",
        "        text_list = []\n",
        "\n",
        "    # Prep input text\n",
        "    text_list.append(task_name + row[1]['title'])\n",
        "    \n",
        "    if index % GENERATE_BATCH_SIZE == 0:\n",
        "        # Batch Encode with Special Tokens\n",
        "        textlist_encoded = t5_tokenizer.batch_encode_plus(text_list, add_special_tokens = True, max_length = MAX_LEN, truncation = True, padding = 'max_length', return_tensors = 'tf')\n",
        "        \n",
        "        input_ids = textlist_encoded['input_ids']\n",
        "        \n",
        "        # Generate FakeNews\n",
        "        generated_fakenews = model.generate(input_ids, \n",
        "                                          max_length = MAX_LEN, \n",
        "                                          top_p = 0.96, \n",
        "                                          top_k = 256, \n",
        "                                          temperature = 1.3,\n",
        "                                          num_beams = 1, \n",
        "                                          num_return_sequences = 1, \n",
        "                                          repetition_penalty = 1.3)\n",
        "        \n",
        "        for mapping in generated_fakenews.numpy():\n",
        "            generated_description = t5_tokenizer.decode(mapping, skip_special_tokens = True)\n",
        "            generated.append(generated_description)\n",
        "\n",
        "        # Reset Text List\n",
        "        text_list = []\n",
        "\n",
        "# Generate Final File\n",
        "test_df['generated_description'] = generated\n",
        "test_df.to_csv(WORK_DIR + 't5_generated_fake_news_final.csv')\n",
        "\n",
        "# Summary...\n",
        "test_df.head()"
      ],
      "execution_count": 9,
      "outputs": [
        {
          "output_type": "display_data",
          "data": {
            "application/vnd.jupyter.widget-view+json": {
              "model_id": "32919c22f79f4af59d27fa59bb4772a0",
              "version_minor": 0,
              "version_major": 2
            },
            "text/plain": [
              "HBox(children=(FloatProgress(value=0.0, max=7600.0), HTML(value='')))"
            ]
          },
          "metadata": {
            "tags": []
          }
        },
        {
          "output_type": "stream",
          "text": [
            "\n"
          ],
          "name": "stdout"
        },
        {
          "output_type": "execute_result",
          "data": {
            "text/html": [
              "<div>\n",
              "<style scoped>\n",
              "    .dataframe tbody tr th:only-of-type {\n",
              "        vertical-align: middle;\n",
              "    }\n",
              "\n",
              "    .dataframe tbody tr th {\n",
              "        vertical-align: top;\n",
              "    }\n",
              "\n",
              "    .dataframe thead th {\n",
              "        text-align: right;\n",
              "    }\n",
              "</style>\n",
              "<table border=\"1\" class=\"dataframe\">\n",
              "  <thead>\n",
              "    <tr style=\"text-align: right;\">\n",
              "      <th></th>\n",
              "      <th>label</th>\n",
              "      <th>title</th>\n",
              "      <th>description</th>\n",
              "      <th>generated_description</th>\n",
              "    </tr>\n",
              "  </thead>\n",
              "  <tbody>\n",
              "    <tr>\n",
              "      <th>0</th>\n",
              "      <td>3</td>\n",
              "      <td>Fears for T N pension after talks</td>\n",
              "      <td>Unions representing workers at Turner   Newall say they are 'disappointed' after talks with stricken parent firm Federal Mogul.</td>\n",
              "      <td>SAN FRANCISCO (Reuters) - The government has urged its members to hold talks with the government on a plan to reduce their pension liabilities, a report said on Thursday.</td>\n",
              "    </tr>\n",
              "    <tr>\n",
              "      <th>1</th>\n",
              "      <td>4</td>\n",
              "      <td>The Race is On: Second Private Team Sets Launch Date for Human Spaceflight (SPACE.com)</td>\n",
              "      <td>SPACE.com - TORONTO, Canada -- A second\\team of rocketeers competing for the  #36;10 million Ansari X Prize, a contest for\\privately funded suborbital space flight, has officially announced the first\\launch date for its manned rocket.</td>\n",
              "      <td>SPACE.com - The second private team to launch a human spacecraft has set a date for the launch of the first human spacecraft, a move that will help the crew of the manned spacecraft to reach the moon.</td>\n",
              "    </tr>\n",
              "    <tr>\n",
              "      <th>2</th>\n",
              "      <td>4</td>\n",
              "      <td>Ky. Company Wins Grant to Study Peptides (AP)</td>\n",
              "      <td>AP - A company founded by a chemistry researcher at the University of Louisville won a grant to develop a method of producing better peptides, which are short chains of amino acids, the building blocks of proteins.</td>\n",
              "      <td>AP - A Kentucky company that has been studying peptides for more than a decade has won a grant to study the drug.</td>\n",
              "    </tr>\n",
              "    <tr>\n",
              "      <th>3</th>\n",
              "      <td>4</td>\n",
              "      <td>Prediction Unit Helps Forecast Wildfires (AP)</td>\n",
              "      <td>AP - It's barely dawn when Mike Fitzpatrick starts his shift with a blur of colorful maps, figures and endless charts, but already he knows what the day will bring. Lightning will strike in places he expects. Winds will pick up, moist places will dry a...</td>\n",
              "      <td>AP - A new unit of the National Weather Service's forecasting unit has helped forecast wildfires in the United States and Canada.</td>\n",
              "    </tr>\n",
              "    <tr>\n",
              "      <th>4</th>\n",
              "      <td>4</td>\n",
              "      <td>Calif. Aims to Limit Farm-Related Smog (AP)</td>\n",
              "      <td>AP - Southern California's smog-fighting agency went after emissions of the bovine variety Friday, adopting the nation's first rules to reduce air pollution from dairy cow manure.</td>\n",
              "      <td>AP - California's Environmental Protection Agency is aiming to limit the impact of smog on agriculture by reducing emissions from greenhouse gases, a federal agency said Tuesday.</td>\n",
              "    </tr>\n",
              "  </tbody>\n",
              "</table>\n",
              "</div>"
            ],
            "text/plain": [
              "   label  ...                                                                                                                                                                                     generated_description\n",
              "0      3  ...                                SAN FRANCISCO (Reuters) - The government has urged its members to hold talks with the government on a plan to reduce their pension liabilities, a report said on Thursday.\n",
              "1      4  ...  SPACE.com - The second private team to launch a human spacecraft has set a date for the launch of the first human spacecraft, a move that will help the crew of the manned spacecraft to reach the moon.\n",
              "2      4  ...                                                                                         AP - A Kentucky company that has been studying peptides for more than a decade has won a grant to study the drug.\n",
              "3      4  ...                                                                         AP - A new unit of the National Weather Service's forecasting unit has helped forecast wildfires in the United States and Canada.\n",
              "4      4  ...                        AP - California's Environmental Protection Agency is aiming to limit the impact of smog on agriculture by reducing emissions from greenhouse gases, a federal agency said Tuesday.\n",
              "\n",
              "[5 rows x 4 columns]"
            ]
          },
          "metadata": {
            "tags": []
          },
          "execution_count": 9
        }
      ]
    },
    {
      "cell_type": "markdown",
      "metadata": {
        "id": "RgId77qon6rh"
      },
      "source": [
        "### RoBERTa FakeNews Detector"
      ]
    },
    {
      "cell_type": "markdown",
      "metadata": {
        "id": "YXxmgFUeTUMY"
      },
      "source": [
        "We load the 't5_generated_fake_news_final.csv' file and do some preprocessing to get the input news and labels correct for the classifier."
      ]
    },
    {
      "cell_type": "code",
      "metadata": {
        "colab": {
          "base_uri": "https://localhost:8080/",
          "height": 281
        },
        "id": "JEInCT9U6G40",
        "outputId": "59915567-c580-44af-8c4a-99e91974b7ef"
      },
      "source": [
        "# Import Generated Fake News\n",
        "df = pd.read_csv(WORK_DIR + 't5_generated_fake_news_final.csv', usecols = ['title', 'description', 'generated_description'])\n",
        "df.head()"
      ],
      "execution_count": 10,
      "outputs": [
        {
          "output_type": "execute_result",
          "data": {
            "text/html": [
              "<div>\n",
              "<style scoped>\n",
              "    .dataframe tbody tr th:only-of-type {\n",
              "        vertical-align: middle;\n",
              "    }\n",
              "\n",
              "    .dataframe tbody tr th {\n",
              "        vertical-align: top;\n",
              "    }\n",
              "\n",
              "    .dataframe thead th {\n",
              "        text-align: right;\n",
              "    }\n",
              "</style>\n",
              "<table border=\"1\" class=\"dataframe\">\n",
              "  <thead>\n",
              "    <tr style=\"text-align: right;\">\n",
              "      <th></th>\n",
              "      <th>title</th>\n",
              "      <th>description</th>\n",
              "      <th>generated_description</th>\n",
              "    </tr>\n",
              "  </thead>\n",
              "  <tbody>\n",
              "    <tr>\n",
              "      <th>0</th>\n",
              "      <td>Fears for T N pension after talks</td>\n",
              "      <td>Unions representing workers at Turner   Newall say they are 'disappointed' after talks with stricken parent firm Federal Mogul.</td>\n",
              "      <td>SAN FRANCISCO (Reuters) - The government has urged its members to hold talks with the government on a plan to reduce their pension liabilities, a report said on Thursday.</td>\n",
              "    </tr>\n",
              "    <tr>\n",
              "      <th>1</th>\n",
              "      <td>The Race is On: Second Private Team Sets Launch Date for Human Spaceflight (SPACE.com)</td>\n",
              "      <td>SPACE.com - TORONTO, Canada -- A second\\team of rocketeers competing for the  #36;10 million Ansari X Prize, a contest for\\privately funded suborbital space flight, has officially announced the first\\launch date for its manned rocket.</td>\n",
              "      <td>SPACE.com - The second private team to launch a human spacecraft has set a date for the launch of the first human spacecraft, a move that will help the crew of the manned spacecraft to reach the moon.</td>\n",
              "    </tr>\n",
              "    <tr>\n",
              "      <th>2</th>\n",
              "      <td>Ky. Company Wins Grant to Study Peptides (AP)</td>\n",
              "      <td>AP - A company founded by a chemistry researcher at the University of Louisville won a grant to develop a method of producing better peptides, which are short chains of amino acids, the building blocks of proteins.</td>\n",
              "      <td>AP - A Kentucky company that has been studying peptides for more than a decade has won a grant to study the drug.</td>\n",
              "    </tr>\n",
              "    <tr>\n",
              "      <th>3</th>\n",
              "      <td>Prediction Unit Helps Forecast Wildfires (AP)</td>\n",
              "      <td>AP - It's barely dawn when Mike Fitzpatrick starts his shift with a blur of colorful maps, figures and endless charts, but already he knows what the day will bring. Lightning will strike in places he expects. Winds will pick up, moist places will dry a...</td>\n",
              "      <td>AP - A new unit of the National Weather Service's forecasting unit has helped forecast wildfires in the United States and Canada.</td>\n",
              "    </tr>\n",
              "    <tr>\n",
              "      <th>4</th>\n",
              "      <td>Calif. Aims to Limit Farm-Related Smog (AP)</td>\n",
              "      <td>AP - Southern California's smog-fighting agency went after emissions of the bovine variety Friday, adopting the nation's first rules to reduce air pollution from dairy cow manure.</td>\n",
              "      <td>AP - California's Environmental Protection Agency is aiming to limit the impact of smog on agriculture by reducing emissions from greenhouse gases, a federal agency said Tuesday.</td>\n",
              "    </tr>\n",
              "  </tbody>\n",
              "</table>\n",
              "</div>"
            ],
            "text/plain": [
              "                                                                                    title  ...                                                                                                                                                                                     generated_description\n",
              "0                                                       Fears for T N pension after talks  ...                                SAN FRANCISCO (Reuters) - The government has urged its members to hold talks with the government on a plan to reduce their pension liabilities, a report said on Thursday.\n",
              "1  The Race is On: Second Private Team Sets Launch Date for Human Spaceflight (SPACE.com)  ...  SPACE.com - The second private team to launch a human spacecraft has set a date for the launch of the first human spacecraft, a move that will help the crew of the manned spacecraft to reach the moon.\n",
              "2                                           Ky. Company Wins Grant to Study Peptides (AP)  ...                                                                                         AP - A Kentucky company that has been studying peptides for more than a decade has won a grant to study the drug.\n",
              "3                                           Prediction Unit Helps Forecast Wildfires (AP)  ...                                                                         AP - A new unit of the National Weather Service's forecasting unit has helped forecast wildfires in the United States and Canada.\n",
              "4                                             Calif. Aims to Limit Farm-Related Smog (AP)  ...                        AP - California's Environmental Protection Agency is aiming to limit the impact of smog on agriculture by reducing emissions from greenhouse gases, a federal agency said Tuesday.\n",
              "\n",
              "[5 rows x 3 columns]"
            ]
          },
          "metadata": {
            "tags": []
          },
          "execution_count": 10
        }
      ]
    },
    {
      "cell_type": "code",
      "metadata": {
        "colab": {
          "base_uri": "https://localhost:8080/",
          "height": 231
        },
        "id": "11LyH_Ms3r5Y",
        "outputId": "492852f0-7aa0-430d-a68c-cfbcddc7b7f3"
      },
      "source": [
        "# Split out 'description', rename column to 'news' and set label to 0\n",
        "df_description = df[['title', 'description']].copy()\n",
        "df_description.rename(columns = {'description': 'news'}, inplace = True)\n",
        "df_description['label'] = 0\n",
        "df_description.head()"
      ],
      "execution_count": 11,
      "outputs": [
        {
          "output_type": "execute_result",
          "data": {
            "text/html": [
              "<div>\n",
              "<style scoped>\n",
              "    .dataframe tbody tr th:only-of-type {\n",
              "        vertical-align: middle;\n",
              "    }\n",
              "\n",
              "    .dataframe tbody tr th {\n",
              "        vertical-align: top;\n",
              "    }\n",
              "\n",
              "    .dataframe thead th {\n",
              "        text-align: right;\n",
              "    }\n",
              "</style>\n",
              "<table border=\"1\" class=\"dataframe\">\n",
              "  <thead>\n",
              "    <tr style=\"text-align: right;\">\n",
              "      <th></th>\n",
              "      <th>title</th>\n",
              "      <th>news</th>\n",
              "      <th>label</th>\n",
              "    </tr>\n",
              "  </thead>\n",
              "  <tbody>\n",
              "    <tr>\n",
              "      <th>0</th>\n",
              "      <td>Fears for T N pension after talks</td>\n",
              "      <td>Unions representing workers at Turner   Newall say they are 'disappointed' after talks with stricken parent firm Federal Mogul.</td>\n",
              "      <td>0</td>\n",
              "    </tr>\n",
              "    <tr>\n",
              "      <th>1</th>\n",
              "      <td>The Race is On: Second Private Team Sets Launch Date for Human Spaceflight (SPACE.com)</td>\n",
              "      <td>SPACE.com - TORONTO, Canada -- A second\\team of rocketeers competing for the  #36;10 million Ansari X Prize, a contest for\\privately funded suborbital space flight, has officially announced the first\\launch date for its manned rocket.</td>\n",
              "      <td>0</td>\n",
              "    </tr>\n",
              "    <tr>\n",
              "      <th>2</th>\n",
              "      <td>Ky. Company Wins Grant to Study Peptides (AP)</td>\n",
              "      <td>AP - A company founded by a chemistry researcher at the University of Louisville won a grant to develop a method of producing better peptides, which are short chains of amino acids, the building blocks of proteins.</td>\n",
              "      <td>0</td>\n",
              "    </tr>\n",
              "    <tr>\n",
              "      <th>3</th>\n",
              "      <td>Prediction Unit Helps Forecast Wildfires (AP)</td>\n",
              "      <td>AP - It's barely dawn when Mike Fitzpatrick starts his shift with a blur of colorful maps, figures and endless charts, but already he knows what the day will bring. Lightning will strike in places he expects. Winds will pick up, moist places will dry a...</td>\n",
              "      <td>0</td>\n",
              "    </tr>\n",
              "    <tr>\n",
              "      <th>4</th>\n",
              "      <td>Calif. Aims to Limit Farm-Related Smog (AP)</td>\n",
              "      <td>AP - Southern California's smog-fighting agency went after emissions of the bovine variety Friday, adopting the nation's first rules to reduce air pollution from dairy cow manure.</td>\n",
              "      <td>0</td>\n",
              "    </tr>\n",
              "  </tbody>\n",
              "</table>\n",
              "</div>"
            ],
            "text/plain": [
              "                                                                                    title  ... label\n",
              "0                                                       Fears for T N pension after talks  ...     0\n",
              "1  The Race is On: Second Private Team Sets Launch Date for Human Spaceflight (SPACE.com)  ...     0\n",
              "2                                           Ky. Company Wins Grant to Study Peptides (AP)  ...     0\n",
              "3                                           Prediction Unit Helps Forecast Wildfires (AP)  ...     0\n",
              "4                                             Calif. Aims to Limit Farm-Related Smog (AP)  ...     0\n",
              "\n",
              "[5 rows x 3 columns]"
            ]
          },
          "metadata": {
            "tags": []
          },
          "execution_count": 11
        }
      ]
    },
    {
      "cell_type": "code",
      "metadata": {
        "colab": {
          "base_uri": "https://localhost:8080/",
          "height": 197
        },
        "id": "iTVrtjEN3-WG",
        "outputId": "cead11b0-7f39-45af-d2f6-4d31eeae0d6c"
      },
      "source": [
        "# Split out 'generated_description', rename column to 'news' and set label to 1\n",
        "df_generated = df[['title', 'generated_description']].copy()\n",
        "df_generated.rename(columns = {'generated_description': 'news'}, inplace = True)\n",
        "df_generated['label'] = 1\n",
        "df_generated.head()"
      ],
      "execution_count": 12,
      "outputs": [
        {
          "output_type": "execute_result",
          "data": {
            "text/html": [
              "<div>\n",
              "<style scoped>\n",
              "    .dataframe tbody tr th:only-of-type {\n",
              "        vertical-align: middle;\n",
              "    }\n",
              "\n",
              "    .dataframe tbody tr th {\n",
              "        vertical-align: top;\n",
              "    }\n",
              "\n",
              "    .dataframe thead th {\n",
              "        text-align: right;\n",
              "    }\n",
              "</style>\n",
              "<table border=\"1\" class=\"dataframe\">\n",
              "  <thead>\n",
              "    <tr style=\"text-align: right;\">\n",
              "      <th></th>\n",
              "      <th>title</th>\n",
              "      <th>news</th>\n",
              "      <th>label</th>\n",
              "    </tr>\n",
              "  </thead>\n",
              "  <tbody>\n",
              "    <tr>\n",
              "      <th>0</th>\n",
              "      <td>Fears for T N pension after talks</td>\n",
              "      <td>SAN FRANCISCO (Reuters) - The government has urged its members to hold talks with the government on a plan to reduce their pension liabilities, a report said on Thursday.</td>\n",
              "      <td>1</td>\n",
              "    </tr>\n",
              "    <tr>\n",
              "      <th>1</th>\n",
              "      <td>The Race is On: Second Private Team Sets Launch Date for Human Spaceflight (SPACE.com)</td>\n",
              "      <td>SPACE.com - The second private team to launch a human spacecraft has set a date for the launch of the first human spacecraft, a move that will help the crew of the manned spacecraft to reach the moon.</td>\n",
              "      <td>1</td>\n",
              "    </tr>\n",
              "    <tr>\n",
              "      <th>2</th>\n",
              "      <td>Ky. Company Wins Grant to Study Peptides (AP)</td>\n",
              "      <td>AP - A Kentucky company that has been studying peptides for more than a decade has won a grant to study the drug.</td>\n",
              "      <td>1</td>\n",
              "    </tr>\n",
              "    <tr>\n",
              "      <th>3</th>\n",
              "      <td>Prediction Unit Helps Forecast Wildfires (AP)</td>\n",
              "      <td>AP - A new unit of the National Weather Service's forecasting unit has helped forecast wildfires in the United States and Canada.</td>\n",
              "      <td>1</td>\n",
              "    </tr>\n",
              "    <tr>\n",
              "      <th>4</th>\n",
              "      <td>Calif. Aims to Limit Farm-Related Smog (AP)</td>\n",
              "      <td>AP - California's Environmental Protection Agency is aiming to limit the impact of smog on agriculture by reducing emissions from greenhouse gases, a federal agency said Tuesday.</td>\n",
              "      <td>1</td>\n",
              "    </tr>\n",
              "  </tbody>\n",
              "</table>\n",
              "</div>"
            ],
            "text/plain": [
              "                                                                                    title  ... label\n",
              "0                                                       Fears for T N pension after talks  ...     1\n",
              "1  The Race is On: Second Private Team Sets Launch Date for Human Spaceflight (SPACE.com)  ...     1\n",
              "2                                           Ky. Company Wins Grant to Study Peptides (AP)  ...     1\n",
              "3                                           Prediction Unit Helps Forecast Wildfires (AP)  ...     1\n",
              "4                                             Calif. Aims to Limit Farm-Related Smog (AP)  ...     1\n",
              "\n",
              "[5 rows x 3 columns]"
            ]
          },
          "metadata": {
            "tags": []
          },
          "execution_count": 12
        }
      ]
    },
    {
      "cell_type": "code",
      "metadata": {
        "colab": {
          "base_uri": "https://localhost:8080/",
          "height": 381
        },
        "id": "J6yIHUQg4M81",
        "outputId": "29d5d37d-7f0e-48ff-abe5-85bb2fbcc26a"
      },
      "source": [
        "# Combine Dataframes to a final dataframe.\n",
        "test_df = pd.concat([df_description, df_generated], ignore_index = True)\n",
        "test_df.sample(n = 10)"
      ],
      "execution_count": 13,
      "outputs": [
        {
          "output_type": "execute_result",
          "data": {
            "text/html": [
              "<div>\n",
              "<style scoped>\n",
              "    .dataframe tbody tr th:only-of-type {\n",
              "        vertical-align: middle;\n",
              "    }\n",
              "\n",
              "    .dataframe tbody tr th {\n",
              "        vertical-align: top;\n",
              "    }\n",
              "\n",
              "    .dataframe thead th {\n",
              "        text-align: right;\n",
              "    }\n",
              "</style>\n",
              "<table border=\"1\" class=\"dataframe\">\n",
              "  <thead>\n",
              "    <tr style=\"text-align: right;\">\n",
              "      <th></th>\n",
              "      <th>title</th>\n",
              "      <th>news</th>\n",
              "      <th>label</th>\n",
              "    </tr>\n",
              "  </thead>\n",
              "  <tbody>\n",
              "    <tr>\n",
              "      <th>11817</th>\n",
              "      <td>China Mine Blast Kills 56, Death Toll Could Soar</td>\n",
              "      <td>China #39;s largest mine explosion killed 56 people and a death toll could soar as the country #39;s government prepares to take action against the alleged sabotage of a mine in the southern province of Guangdong province.</td>\n",
              "      <td>1</td>\n",
              "    </tr>\n",
              "    <tr>\n",
              "      <th>12285</th>\n",
              "      <td>OPEC Head Urges U.S. to Use Oil Reserves</td>\n",
              "      <td>OPEC Chairman John Kerry has called on the United States to use oil reserves to help the oil industry, a top OPEC official said on Thursday.</td>\n",
              "      <td>1</td>\n",
              "    </tr>\n",
              "    <tr>\n",
              "      <th>3098</th>\n",
              "      <td>Office Depot Chairman, CEO Nelson Resigns</td>\n",
              "      <td>Office Depot Inc. (ODP.N: Quote, Profile, Research) , the No. 2 US office supply chain, on Monday said Chairman and Chief Executive Officer Bruce Nelson has resigned and a search for his successor is underway.</td>\n",
              "      <td>0</td>\n",
              "    </tr>\n",
              "    <tr>\n",
              "      <th>7785</th>\n",
              "      <td>Russia ready to contribute to settlement of South Ossetia conflict: Putin</td>\n",
              "      <td>Russia is ready to contribute to the settlement of the conflict in South Ossetia, President Vladimir Putin said on Thursday.</td>\n",
              "      <td>1</td>\n",
              "    </tr>\n",
              "    <tr>\n",
              "      <th>6826</th>\n",
              "      <td>Nissan comes apart without parts</td>\n",
              "      <td>Tokyo - Japan #39;s Nissan Motor said on Thursday that the company may have to suspend some production next March in addition to already announced suspensions, due to parts shortages, resulting in a decline of about 6 billion (R339.8 million) in annual...</td>\n",
              "      <td>0</td>\n",
              "    </tr>\n",
              "    <tr>\n",
              "      <th>1363</th>\n",
              "      <td>NASA space capsule crashes into desert</td>\n",
              "      <td>The Genesis space capsule, which had orbited the sun for more than three years in an attempt to find clues to the origin of the solar system, crashed to Earth on Wednesday after its parachute failed to deploy.</td>\n",
              "      <td>0</td>\n",
              "    </tr>\n",
              "    <tr>\n",
              "      <th>8759</th>\n",
              "      <td>Biffle Bests Mears</td>\n",
              "      <td>The New York Yankees have a chance to win the first round of the World Series, but they need to be able to win the championship.</td>\n",
              "      <td>1</td>\n",
              "    </tr>\n",
              "    <tr>\n",
              "      <th>12609</th>\n",
              "      <td>Australian Bookies Gutted After Betting Splurge</td>\n",
              "      <td>Australian bookies were gutted after a huge surge in their betting profits on the Australian Open on Sunday, despite a sluggish start to the season.</td>\n",
              "      <td>1</td>\n",
              "    </tr>\n",
              "    <tr>\n",
              "      <th>4793</th>\n",
              "      <td>EMC unveils 'Storage Router'</td>\n",
              "      <td>EMC has unveiled long-awaited storage virtualization technology that the company said will allow users to manage its arrays -- and high-end boxes from major competitors -- through a single interface.</td>\n",
              "      <td>0</td>\n",
              "    </tr>\n",
              "    <tr>\n",
              "      <th>3295</th>\n",
              "      <td>Iraq #39;s Government in Talks with Sunni, Shi #39;ite Leaders</td>\n",
              "      <td>Iraq #39;s interim government is engaged in cease-fire talks with Sunni and Shi #39;ite leaders in an effort to restore calm to violent parts of Iraq before January #39;s scheduled election.</td>\n",
              "      <td>0</td>\n",
              "    </tr>\n",
              "  </tbody>\n",
              "</table>\n",
              "</div>"
            ],
            "text/plain": [
              "                                                                           title  ... label\n",
              "11817                           China Mine Blast Kills 56, Death Toll Could Soar  ...     1\n",
              "12285                                   OPEC Head Urges U.S. to Use Oil Reserves  ...     1\n",
              "3098                                   Office Depot Chairman, CEO Nelson Resigns  ...     0\n",
              "7785   Russia ready to contribute to settlement of South Ossetia conflict: Putin  ...     1\n",
              "6826                                            Nissan comes apart without parts  ...     0\n",
              "1363                                      NASA space capsule crashes into desert  ...     0\n",
              "8759                                                          Biffle Bests Mears  ...     1\n",
              "12609                            Australian Bookies Gutted After Betting Splurge  ...     1\n",
              "4793                                                EMC unveils 'Storage Router'  ...     0\n",
              "3295              Iraq #39;s Government in Talks with Sunni, Shi #39;ite Leaders  ...     0\n",
              "\n",
              "[10 rows x 3 columns]"
            ]
          },
          "metadata": {
            "tags": []
          },
          "execution_count": 13
        }
      ]
    },
    {
      "cell_type": "markdown",
      "metadata": {
        "id": "qAO8eLZoS5B_"
      },
      "source": [
        "Next we define a function to process the Pandas Test Dataframe. We loop through all rows and from each row we use the columns 'news' and 'label'.\n",
        "\n",
        "Note that the 'label' column is only used for validation of the predictions."
      ]
    },
    {
      "cell_type": "code",
      "metadata": {
        "id": "4oL4C_tGV2P0"
      },
      "source": [
        "def create_dataset(df):\n",
        "    total_samples = df.shape[0]\n",
        "\n",
        "    # Placeholders input\n",
        "    input_ids = np.zeros((total_samples, MAX_LEN), dtype = 'int32')\n",
        "    input_masks = np.zeros((total_samples, MAX_LEN), dtype = 'int32')\n",
        "    labels = np.zeros((total_samples, ), dtype = 'int32')\n",
        "\n",
        "    for index, row in tqdm(zip(range(0, total_samples), df.iterrows()), total = total_samples):\n",
        "        \n",
        "        # Get news and label...\n",
        "        news = row[1]['news']\n",
        "        label = row[1]['label']\n",
        "\n",
        "        # Process News - Set Label.....\n",
        "        input_encoded = roberta_tokenizer.encode_plus(news, add_special_tokens = True, max_length = MAX_LEN, truncation = True, padding = 'max_length')\n",
        "        input_ids_sample = input_encoded['input_ids']\n",
        "        input_ids[index,:] = input_ids_sample\n",
        "        attention_mask_sample = input_encoded['attention_mask']\n",
        "        input_masks[index,:] = attention_mask_sample\n",
        "        labels[index] = int(label)\n",
        "\n",
        "    # Create Dataset.\n",
        "    dataset = tf.data.Dataset.from_tensor_slices(({'input_ids': input_ids, 'attention_mask': input_masks}, labels))\n",
        "\n",
        "    # Return Dataset\n",
        "    return dataset"
      ],
      "execution_count": 14,
      "outputs": []
    },
    {
      "cell_type": "code",
      "metadata": {
        "colab": {
          "base_uri": "https://localhost:8080/",
          "height": 102,
          "referenced_widgets": [
            "e28f4fea599641d3b8aa886bfd5109f8",
            "aebd405301dd44588922e3630c67a681",
            "4952d00c69944399b089373eb8628753",
            "0b0f6cb2e0b949f78b9b22d5e9ea3e30",
            "f3c3f03eff4545c1ba5a65bbd7ef5f77",
            "d550bd9e5ca24449aeb7a67fe886766c",
            "4350da6363574a3a9d0a06c10af14894",
            "6a1d35bcf6bc4272b764d8bc39780fb2"
          ]
        },
        "id": "gSpLmKyc4h23",
        "outputId": "ba9d2116-c1d2-437b-d220-53bea1ba81c5"
      },
      "source": [
        "# Show Sizes\n",
        "print(f'Test DF Shape: {test_df.shape}')\n",
        "\n",
        "# Create Validation Dataset\n",
        "test_dataset = create_dataset(test_df)\n",
        "test_dataset = test_dataset.batch(PREDICT_BATCH_SIZE)\n",
        "test_dataset = test_dataset.repeat()\n",
        "test_dataset = test_dataset.prefetch(128)\n",
        "\n",
        "# Steps\n",
        "test_steps = test_df.shape[0] // PREDICT_BATCH_SIZE\n",
        "print(f'Test Steps: {test_steps}')"
      ],
      "execution_count": 15,
      "outputs": [
        {
          "output_type": "stream",
          "text": [
            "Test DF Shape: (15200, 3)\n"
          ],
          "name": "stdout"
        },
        {
          "output_type": "display_data",
          "data": {
            "application/vnd.jupyter.widget-view+json": {
              "model_id": "e28f4fea599641d3b8aa886bfd5109f8",
              "version_minor": 0,
              "version_major": 2
            },
            "text/plain": [
              "HBox(children=(FloatProgress(value=0.0, max=15200.0), HTML(value='')))"
            ]
          },
          "metadata": {
            "tags": []
          }
        },
        {
          "output_type": "stream",
          "text": [
            "\n",
            "Test Steps: 950\n"
          ],
          "name": "stdout"
        }
      ]
    },
    {
      "cell_type": "markdown",
      "metadata": {
        "id": "_Hupv0MiTrz4"
      },
      "source": [
        "Define a function to create and compile the RoBERTa base model."
      ]
    },
    {
      "cell_type": "code",
      "metadata": {
        "id": "cZMVCk9XRC3u"
      },
      "source": [
        "def build_model():\n",
        "    # Create Model\n",
        "    with strategy.scope():      \n",
        "        model = TFRobertaForSequenceClassification.from_pretrained(roberta_type, config = roberta_config)\n",
        "        \n",
        "        optimizer = tf.keras.optimizers.Adam()\n",
        "        loss = tf.keras.losses.SparseCategoricalCrossentropy(from_logits = True)\n",
        "        metric = tf.keras.metrics.SparseCategoricalAccuracy('accuracy')\n",
        "\n",
        "        model.compile(optimizer = optimizer, loss = loss, metrics = [metric])        \n",
        "        \n",
        "        return model"
      ],
      "execution_count": 16,
      "outputs": []
    },
    {
      "cell_type": "markdown",
      "metadata": {
        "id": "YnDlQEKTVAKc"
      },
      "source": [
        "Create the model and load the weights file"
      ]
    },
    {
      "cell_type": "code",
      "metadata": {
        "colab": {
          "base_uri": "https://localhost:8080/"
        },
        "id": "wfG_x1-9X2P4",
        "outputId": "fe4afe10-6b09-40cc-c9c5-94c1b1d3b20b"
      },
      "source": [
        "# Create Model\n",
        "model = build_model()\n",
        "\n",
        "# Summary\n",
        "model.summary()\n",
        "\n",
        "# Load Weights\n",
        "model.load_weights(WORK_DIR + 'roberta_base_model.h5')"
      ],
      "execution_count": 17,
      "outputs": [
        {
          "output_type": "stream",
          "text": [
            "All model checkpoint layers were used when initializing TFRobertaForSequenceClassification.\n",
            "\n",
            "Some layers of TFRobertaForSequenceClassification were not initialized from the model checkpoint at roberta-base and are newly initialized: ['classifier']\n",
            "You should probably TRAIN this model on a down-stream task to be able to use it for predictions and inference.\n"
          ],
          "name": "stderr"
        },
        {
          "output_type": "stream",
          "text": [
            "Model: \"tf_roberta_for_sequence_classification\"\n",
            "_________________________________________________________________\n",
            "Layer (type)                 Output Shape              Param #   \n",
            "=================================================================\n",
            "roberta (TFRobertaMainLayer) multiple                  124055040 \n",
            "_________________________________________________________________\n",
            "classifier (TFRobertaClassif multiple                  592130    \n",
            "=================================================================\n",
            "Total params: 124,647,170\n",
            "Trainable params: 124,647,170\n",
            "Non-trainable params: 0\n",
            "_________________________________________________________________\n"
          ],
          "name": "stdout"
        }
      ]
    },
    {
      "cell_type": "markdown",
      "metadata": {
        "id": "GEG6Ws5YVbC2"
      },
      "source": [
        "Next lets first evaluate the test set and see how well the RoBERTa model can classify the generated data.\n",
        "\n",
        "With an evaluation accuracy of around 97% the RoBERTa model performs a nice job of classifying the real and fake news."
      ]
    },
    {
      "cell_type": "code",
      "metadata": {
        "colab": {
          "base_uri": "https://localhost:8080/"
        },
        "id": "jJzIzinTyLxc",
        "outputId": "7bdca5f5-3d1b-4522-c3af-8a2c4d4145ae"
      },
      "source": [
        "# Evaluate Dataset\n",
        "eval = model.evaluate(test_dataset, steps = test_steps, verbose = 1)\n",
        "print(f'Detection Accuracy: {eval[1] * 100}%')"
      ],
      "execution_count": 18,
      "outputs": [
        {
          "output_type": "stream",
          "text": [
            "WARNING:tensorflow:The parameters `output_attentions`, `output_hidden_states` and `use_cache` cannot be updated when calling a model.They have to be set to True/False in the config object (i.e.: `config=XConfig.from_pretrained('name', output_attentions=True)`).\n",
            "WARNING:tensorflow:AutoGraph could not transform <bound method Socket.send of <zmq.sugar.socket.Socket object at 0x7f5571a63ec0>> and will run it as-is.\n",
            "Please report this to the TensorFlow team. When filing the bug, set the verbosity to 10 (on Linux, `export AUTOGRAPH_VERBOSITY=10`) and attach the full output.\n",
            "Cause: module, class, method, function, traceback, frame, or code object was expected, got cython_function_or_method\n",
            "To silence this warning, decorate the function with @tf.autograph.experimental.do_not_convert\n",
            "WARNING:tensorflow:AutoGraph could not transform <function wrap at 0x7f559d314c20> and will run it as-is.\n",
            "Cause: while/else statement not yet supported\n",
            "To silence this warning, decorate the function with @tf.autograph.experimental.do_not_convert\n",
            "WARNING:tensorflow:The parameter `return_dict` cannot be set in graph mode and will always be set to `True`.\n",
            "950/950 [==============================] - 225s 198ms/step - loss: 0.1151 - accuracy: 0.9622\n",
            "Detection Accuracy: 97.69079089164734%\n"
          ],
          "name": "stdout"
        }
      ]
    },
    {
      "cell_type": "markdown",
      "metadata": {
        "id": "zfc8vtulVrfa"
      },
      "source": [
        "We can also perform prediction with the test set. This is basically the same action as the evaluation. However evaluation will give us back the evaluation metrics where as prediction will give us back the raw predictions."
      ]
    },
    {
      "cell_type": "code",
      "metadata": {
        "id": "4l6GrnOCKKOk",
        "colab": {
          "base_uri": "https://localhost:8080/"
        },
        "outputId": "5d1e2129-4587-4098-81f6-3d1cf0af0605"
      },
      "source": [
        "# Predict Dataset\n",
        "preds = model.predict(test_dataset, steps = test_steps, verbose = 1)\n",
        "\n",
        "# Raw Predictions\n",
        "print(preds.logits[:5])\n",
        "\n",
        "# Probabilities\n",
        "probs = tf.nn.softmax(preds.logits).numpy()\n",
        "print(probs[:5])"
      ],
      "execution_count": 19,
      "outputs": [
        {
          "output_type": "stream",
          "text": [
            "WARNING:tensorflow:The parameters `output_attentions`, `output_hidden_states` and `use_cache` cannot be updated when calling a model.They have to be set to True/False in the config object (i.e.: `config=XConfig.from_pretrained('name', output_attentions=True)`).\n",
            "WARNING:tensorflow:The parameter `return_dict` cannot be set in graph mode and will always be set to `True`.\n",
            "950/950 [==============================] - 188s 196ms/step\n",
            "[[ 4.8985724  -4.9062314 ]\n",
            " [ 4.887136   -4.9282126 ]\n",
            " [-0.58673674  0.8424304 ]\n",
            " [ 4.754228   -4.788338  ]\n",
            " [ 4.744828   -4.7787185 ]]\n",
            "[[9.9994481e-01 5.5182816e-05]\n",
            " [9.9994540e-01 5.4604017e-05]\n",
            " [1.9322848e-01 8.0677146e-01]\n",
            " [9.9992824e-01 7.1727380e-05]\n",
            " [9.9992692e-01 7.3104602e-05]]\n"
          ],
          "name": "stdout"
        }
      ]
    },
    {
      "cell_type": "markdown",
      "metadata": {
        "id": "cmDBZAuZ8IAx"
      },
      "source": [
        "Lets write the probabilities and predicted labels to the dataframe."
      ]
    },
    {
      "cell_type": "code",
      "metadata": {
        "id": "L50oa39YyQ3M"
      },
      "source": [
        "# Write Probabilities to dataframe\n",
        "test_df['probas'] = probs[:, 1]\n",
        "\n",
        "# Write predicted Label to dataframe\n",
        "test_df['label_pred'] = np.argmax(probs, axis = 1)"
      ],
      "execution_count": 20,
      "outputs": []
    },
    {
      "cell_type": "markdown",
      "metadata": {
        "id": "Apdeq2tUB2kM"
      },
      "source": [
        "So the majority of the real news and fake news where classified correctly. Lets take a more detailed look at this with a Classification Report."
      ]
    },
    {
      "cell_type": "code",
      "metadata": {
        "colab": {
          "base_uri": "https://localhost:8080/"
        },
        "id": "3PLVHP8I_tV1",
        "outputId": "cf6b3c24-3988-4c19-d093-f07a40e5f597"
      },
      "source": [
        "target_names = ['Real News', 'Fake News']\n",
        "print(classification_report(test_df.label.values, test_df.label_pred.values, target_names = target_names))"
      ],
      "execution_count": 21,
      "outputs": [
        {
          "output_type": "stream",
          "text": [
            "              precision    recall  f1-score   support\n",
            "\n",
            "   Real News       1.00      0.95      0.98      7600\n",
            "   Fake News       0.96      1.00      0.98      7600\n",
            "\n",
            "    accuracy                           0.98     15200\n",
            "   macro avg       0.98      0.98      0.98     15200\n",
            "weighted avg       0.98      0.98      0.98     15200\n",
            "\n"
          ],
          "name": "stdout"
        }
      ]
    },
    {
      "cell_type": "markdown",
      "metadata": {
        "id": "agOV117d6cPg"
      },
      "source": [
        "We will add friendly display names in addition to the 0 and 1 values for the labels and predicted labels. This makes the overview more clear."
      ]
    },
    {
      "cell_type": "code",
      "metadata": {
        "colab": {
          "base_uri": "https://localhost:8080/",
          "height": 247
        },
        "id": "LTTBw3yx9iDv",
        "outputId": "0cc7b280-2962-45f9-a5b9-3360aabfd4fd"
      },
      "source": [
        "test_df['DN_Label'] = np.where(test_df.label == 0, 'RealNews', 'FakeNews')\n",
        "test_df['DN_Label_Predicted'] = np.where(test_df.label_pred == 0, 'RealNews', 'FakeNews')\n",
        "test_df.head()"
      ],
      "execution_count": 22,
      "outputs": [
        {
          "output_type": "execute_result",
          "data": {
            "text/html": [
              "<div>\n",
              "<style scoped>\n",
              "    .dataframe tbody tr th:only-of-type {\n",
              "        vertical-align: middle;\n",
              "    }\n",
              "\n",
              "    .dataframe tbody tr th {\n",
              "        vertical-align: top;\n",
              "    }\n",
              "\n",
              "    .dataframe thead th {\n",
              "        text-align: right;\n",
              "    }\n",
              "</style>\n",
              "<table border=\"1\" class=\"dataframe\">\n",
              "  <thead>\n",
              "    <tr style=\"text-align: right;\">\n",
              "      <th></th>\n",
              "      <th>title</th>\n",
              "      <th>news</th>\n",
              "      <th>label</th>\n",
              "      <th>probas</th>\n",
              "      <th>label_pred</th>\n",
              "      <th>DN_Label</th>\n",
              "      <th>DN_Label_Predicted</th>\n",
              "    </tr>\n",
              "  </thead>\n",
              "  <tbody>\n",
              "    <tr>\n",
              "      <th>0</th>\n",
              "      <td>Fears for T N pension after talks</td>\n",
              "      <td>Unions representing workers at Turner   Newall say they are 'disappointed' after talks with stricken parent firm Federal Mogul.</td>\n",
              "      <td>0</td>\n",
              "      <td>0.000055</td>\n",
              "      <td>0</td>\n",
              "      <td>RealNews</td>\n",
              "      <td>RealNews</td>\n",
              "    </tr>\n",
              "    <tr>\n",
              "      <th>1</th>\n",
              "      <td>The Race is On: Second Private Team Sets Launch Date for Human Spaceflight (SPACE.com)</td>\n",
              "      <td>SPACE.com - TORONTO, Canada -- A second\\team of rocketeers competing for the  #36;10 million Ansari X Prize, a contest for\\privately funded suborbital space flight, has officially announced the first\\launch date for its manned rocket.</td>\n",
              "      <td>0</td>\n",
              "      <td>0.000055</td>\n",
              "      <td>0</td>\n",
              "      <td>RealNews</td>\n",
              "      <td>RealNews</td>\n",
              "    </tr>\n",
              "    <tr>\n",
              "      <th>2</th>\n",
              "      <td>Ky. Company Wins Grant to Study Peptides (AP)</td>\n",
              "      <td>AP - A company founded by a chemistry researcher at the University of Louisville won a grant to develop a method of producing better peptides, which are short chains of amino acids, the building blocks of proteins.</td>\n",
              "      <td>0</td>\n",
              "      <td>0.806771</td>\n",
              "      <td>1</td>\n",
              "      <td>RealNews</td>\n",
              "      <td>FakeNews</td>\n",
              "    </tr>\n",
              "    <tr>\n",
              "      <th>3</th>\n",
              "      <td>Prediction Unit Helps Forecast Wildfires (AP)</td>\n",
              "      <td>AP - It's barely dawn when Mike Fitzpatrick starts his shift with a blur of colorful maps, figures and endless charts, but already he knows what the day will bring. Lightning will strike in places he expects. Winds will pick up, moist places will dry a...</td>\n",
              "      <td>0</td>\n",
              "      <td>0.000072</td>\n",
              "      <td>0</td>\n",
              "      <td>RealNews</td>\n",
              "      <td>RealNews</td>\n",
              "    </tr>\n",
              "    <tr>\n",
              "      <th>4</th>\n",
              "      <td>Calif. Aims to Limit Farm-Related Smog (AP)</td>\n",
              "      <td>AP - Southern California's smog-fighting agency went after emissions of the bovine variety Friday, adopting the nation's first rules to reduce air pollution from dairy cow manure.</td>\n",
              "      <td>0</td>\n",
              "      <td>0.000073</td>\n",
              "      <td>0</td>\n",
              "      <td>RealNews</td>\n",
              "      <td>RealNews</td>\n",
              "    </tr>\n",
              "  </tbody>\n",
              "</table>\n",
              "</div>"
            ],
            "text/plain": [
              "                                                                                    title  ... DN_Label_Predicted\n",
              "0                                                       Fears for T N pension after talks  ...           RealNews\n",
              "1  The Race is On: Second Private Team Sets Launch Date for Human Spaceflight (SPACE.com)  ...           RealNews\n",
              "2                                           Ky. Company Wins Grant to Study Peptides (AP)  ...           FakeNews\n",
              "3                                           Prediction Unit Helps Forecast Wildfires (AP)  ...           RealNews\n",
              "4                                             Calif. Aims to Limit Farm-Related Smog (AP)  ...           RealNews\n",
              "\n",
              "[5 rows x 7 columns]"
            ]
          },
          "metadata": {
            "tags": []
          },
          "execution_count": 22
        }
      ]
    },
    {
      "cell_type": "markdown",
      "metadata": {
        "id": "VbO1i8Zw_Hkw"
      },
      "source": [
        "Lets take a further look at the predictions..."
      ]
    },
    {
      "cell_type": "code",
      "metadata": {
        "colab": {
          "base_uri": "https://localhost:8080/",
          "height": 490
        },
        "id": "lACsL4E3FjmP",
        "outputId": "d2b40b2b-2a0f-4d5e-b404-7556425e4326"
      },
      "source": [
        "# Real News ... and classified as Real...\n",
        "test_df.loc[test_df.label.eq(0) & test_df.label_pred.eq(0), ['title', 'news', 'DN_Label', 'DN_Label_Predicted']]"
      ],
      "execution_count": 23,
      "outputs": [
        {
          "output_type": "execute_result",
          "data": {
            "text/html": [
              "<div>\n",
              "<style scoped>\n",
              "    .dataframe tbody tr th:only-of-type {\n",
              "        vertical-align: middle;\n",
              "    }\n",
              "\n",
              "    .dataframe tbody tr th {\n",
              "        vertical-align: top;\n",
              "    }\n",
              "\n",
              "    .dataframe thead th {\n",
              "        text-align: right;\n",
              "    }\n",
              "</style>\n",
              "<table border=\"1\" class=\"dataframe\">\n",
              "  <thead>\n",
              "    <tr style=\"text-align: right;\">\n",
              "      <th></th>\n",
              "      <th>title</th>\n",
              "      <th>news</th>\n",
              "      <th>DN_Label</th>\n",
              "      <th>DN_Label_Predicted</th>\n",
              "    </tr>\n",
              "  </thead>\n",
              "  <tbody>\n",
              "    <tr>\n",
              "      <th>0</th>\n",
              "      <td>Fears for T N pension after talks</td>\n",
              "      <td>Unions representing workers at Turner   Newall say they are 'disappointed' after talks with stricken parent firm Federal Mogul.</td>\n",
              "      <td>RealNews</td>\n",
              "      <td>RealNews</td>\n",
              "    </tr>\n",
              "    <tr>\n",
              "      <th>1</th>\n",
              "      <td>The Race is On: Second Private Team Sets Launch Date for Human Spaceflight (SPACE.com)</td>\n",
              "      <td>SPACE.com - TORONTO, Canada -- A second\\team of rocketeers competing for the  #36;10 million Ansari X Prize, a contest for\\privately funded suborbital space flight, has officially announced the first\\launch date for its manned rocket.</td>\n",
              "      <td>RealNews</td>\n",
              "      <td>RealNews</td>\n",
              "    </tr>\n",
              "    <tr>\n",
              "      <th>3</th>\n",
              "      <td>Prediction Unit Helps Forecast Wildfires (AP)</td>\n",
              "      <td>AP - It's barely dawn when Mike Fitzpatrick starts his shift with a blur of colorful maps, figures and endless charts, but already he knows what the day will bring. Lightning will strike in places he expects. Winds will pick up, moist places will dry a...</td>\n",
              "      <td>RealNews</td>\n",
              "      <td>RealNews</td>\n",
              "    </tr>\n",
              "    <tr>\n",
              "      <th>4</th>\n",
              "      <td>Calif. Aims to Limit Farm-Related Smog (AP)</td>\n",
              "      <td>AP - Southern California's smog-fighting agency went after emissions of the bovine variety Friday, adopting the nation's first rules to reduce air pollution from dairy cow manure.</td>\n",
              "      <td>RealNews</td>\n",
              "      <td>RealNews</td>\n",
              "    </tr>\n",
              "    <tr>\n",
              "      <th>5</th>\n",
              "      <td>Open Letter Against British Copyright Indoctrination in Schools</td>\n",
              "      <td>The British Department for Education and Skills (DfES) recently launched a \"Music Manifesto\" campaign, with the ostensible intention of educating the next generation of British musicians. Unfortunately, they also teamed up with the music industry (EMI,...</td>\n",
              "      <td>RealNews</td>\n",
              "      <td>RealNews</td>\n",
              "    </tr>\n",
              "    <tr>\n",
              "      <th>...</th>\n",
              "      <td>...</td>\n",
              "      <td>...</td>\n",
              "      <td>...</td>\n",
              "      <td>...</td>\n",
              "    </tr>\n",
              "    <tr>\n",
              "      <th>7595</th>\n",
              "      <td>Around the world</td>\n",
              "      <td>Ukrainian presidential candidate Viktor Yushchenko was poisoned with the most harmful known dioxin, which is contained in Agent Orange, a scientist who analyzed his blood said Friday.</td>\n",
              "      <td>RealNews</td>\n",
              "      <td>RealNews</td>\n",
              "    </tr>\n",
              "    <tr>\n",
              "      <th>7596</th>\n",
              "      <td>Void is filled with Clement</td>\n",
              "      <td>With the supply of attractive pitching options dwindling daily -- they lost Pedro Martinez to the Mets, missed on Tim Hudson, and are resigned to Randy Johnson becoming a Yankee -- the Red Sox struck again last night, coming to terms with free agent Ma...</td>\n",
              "      <td>RealNews</td>\n",
              "      <td>RealNews</td>\n",
              "    </tr>\n",
              "    <tr>\n",
              "      <th>7597</th>\n",
              "      <td>Martinez leaves bitter</td>\n",
              "      <td>Like Roger Clemens did almost exactly eight years earlier, Pedro Martinez has left the Red Sox apparently bitter about the way he was treated by management.</td>\n",
              "      <td>RealNews</td>\n",
              "      <td>RealNews</td>\n",
              "    </tr>\n",
              "    <tr>\n",
              "      <th>7598</th>\n",
              "      <td>5 of arthritis patients in Singapore take Bextra or Celebrex &amp;lt;b&amp;gt;...&amp;lt;/b&amp;gt;</td>\n",
              "      <td>SINGAPORE : Doctors in the United States have warned that painkillers Bextra and Celebrex may be linked to major cardiovascular problems and should not be prescribed.</td>\n",
              "      <td>RealNews</td>\n",
              "      <td>RealNews</td>\n",
              "    </tr>\n",
              "    <tr>\n",
              "      <th>7599</th>\n",
              "      <td>EBay gets into rentals</td>\n",
              "      <td>EBay plans to buy the apartment and home rental service Rent.com for \\$415 million, adding to its already exhaustive breadth of offerings.</td>\n",
              "      <td>RealNews</td>\n",
              "      <td>RealNews</td>\n",
              "    </tr>\n",
              "  </tbody>\n",
              "</table>\n",
              "<p>7254 rows × 4 columns</p>\n",
              "</div>"
            ],
            "text/plain": [
              "                                                                                       title  ... DN_Label_Predicted\n",
              "0                                                          Fears for T N pension after talks  ...           RealNews\n",
              "1     The Race is On: Second Private Team Sets Launch Date for Human Spaceflight (SPACE.com)  ...           RealNews\n",
              "3                                              Prediction Unit Helps Forecast Wildfires (AP)  ...           RealNews\n",
              "4                                                Calif. Aims to Limit Farm-Related Smog (AP)  ...           RealNews\n",
              "5                            Open Letter Against British Copyright Indoctrination in Schools  ...           RealNews\n",
              "...                                                                                      ...  ...                ...\n",
              "7595                                                                        Around the world  ...           RealNews\n",
              "7596                                                             Void is filled with Clement  ...           RealNews\n",
              "7597                                                                  Martinez leaves bitter  ...           RealNews\n",
              "7598     5 of arthritis patients in Singapore take Bextra or Celebrex &lt;b&gt;...&lt;/b&gt;  ...           RealNews\n",
              "7599                                                                  EBay gets into rentals  ...           RealNews\n",
              "\n",
              "[7254 rows x 4 columns]"
            ]
          },
          "metadata": {
            "tags": []
          },
          "execution_count": 23
        }
      ]
    },
    {
      "cell_type": "code",
      "metadata": {
        "id": "qthOr21pyUML",
        "colab": {
          "base_uri": "https://localhost:8080/",
          "height": 440
        },
        "outputId": "39b49365-5680-47dd-f8f0-2a8a95e049aa"
      },
      "source": [
        "# Real News ... but classified as Fake...\n",
        "test_df.loc[test_df.label.eq(0) & test_df.label_pred.eq(1), ['title', 'news', 'DN_Label', 'DN_Label_Predicted']]"
      ],
      "execution_count": 24,
      "outputs": [
        {
          "output_type": "execute_result",
          "data": {
            "text/html": [
              "<div>\n",
              "<style scoped>\n",
              "    .dataframe tbody tr th:only-of-type {\n",
              "        vertical-align: middle;\n",
              "    }\n",
              "\n",
              "    .dataframe tbody tr th {\n",
              "        vertical-align: top;\n",
              "    }\n",
              "\n",
              "    .dataframe thead th {\n",
              "        text-align: right;\n",
              "    }\n",
              "</style>\n",
              "<table border=\"1\" class=\"dataframe\">\n",
              "  <thead>\n",
              "    <tr style=\"text-align: right;\">\n",
              "      <th></th>\n",
              "      <th>title</th>\n",
              "      <th>news</th>\n",
              "      <th>DN_Label</th>\n",
              "      <th>DN_Label_Predicted</th>\n",
              "    </tr>\n",
              "  </thead>\n",
              "  <tbody>\n",
              "    <tr>\n",
              "      <th>2</th>\n",
              "      <td>Ky. Company Wins Grant to Study Peptides (AP)</td>\n",
              "      <td>AP - A company founded by a chemistry researcher at the University of Louisville won a grant to develop a method of producing better peptides, which are short chains of amino acids, the building blocks of proteins.</td>\n",
              "      <td>RealNews</td>\n",
              "      <td>FakeNews</td>\n",
              "    </tr>\n",
              "    <tr>\n",
              "      <th>32</th>\n",
              "      <td>Sister of man who died in Vancouver police custody slams chief (Canadian Press)</td>\n",
              "      <td>Canadian Press - VANCOUVER (CP) - The sister of a man who died after a violent confrontation with police has demanded the city's chief constable resign for defending the officer involved.</td>\n",
              "      <td>RealNews</td>\n",
              "      <td>FakeNews</td>\n",
              "    </tr>\n",
              "    <tr>\n",
              "      <th>45</th>\n",
              "      <td>Drew Out of Braves' Lineup After Injury (AP)</td>\n",
              "      <td>AP - Outfielder J.D. Drew missed the Atlanta Braves' game against the St. Louis Cardinals on Sunday night with a sore right quadriceps.</td>\n",
              "      <td>RealNews</td>\n",
              "      <td>FakeNews</td>\n",
              "    </tr>\n",
              "    <tr>\n",
              "      <th>49</th>\n",
              "      <td>Another Major Non-Factor</td>\n",
              "      <td>Another major, another disappointment for Tiger Woods, the No. 1 ranked player in the world who has not won a major championship since his triumph at the 2002 U.S. Open.</td>\n",
              "      <td>RealNews</td>\n",
              "      <td>FakeNews</td>\n",
              "    </tr>\n",
              "    <tr>\n",
              "      <th>68</th>\n",
              "      <td>Bobcats Trade Drobnjak to Hawks for Pick (AP)</td>\n",
              "      <td>AP - The Charlotte Bobcats traded center Predrag Drobnjak to the Atlanta Hawks on Monday for a second round pick in the 2005 NBA draft.</td>\n",
              "      <td>RealNews</td>\n",
              "      <td>FakeNews</td>\n",
              "    </tr>\n",
              "    <tr>\n",
              "      <th>...</th>\n",
              "      <td>...</td>\n",
              "      <td>...</td>\n",
              "      <td>...</td>\n",
              "      <td>...</td>\n",
              "    </tr>\n",
              "    <tr>\n",
              "      <th>7497</th>\n",
              "      <td>HP drops Itanium development</td>\n",
              "      <td>Hewlett-Packard Co. (HP) is getting out of the chip-making business. The Palo Alto, California, company on Thursday announced that it reached an agreement with Intel Corp.</td>\n",
              "      <td>RealNews</td>\n",
              "      <td>FakeNews</td>\n",
              "    </tr>\n",
              "    <tr>\n",
              "      <th>7508</th>\n",
              "      <td>Parmalat Sues 45 Banks to Recover \\$4 Billion</td>\n",
              "      <td>Parmalat, the bankrupt Italian dairy and food company, sued 45 banks on Thursday seeking to recover money it paid to them in the year before the company #39;s collapse.</td>\n",
              "      <td>RealNews</td>\n",
              "      <td>FakeNews</td>\n",
              "    </tr>\n",
              "    <tr>\n",
              "      <th>7512</th>\n",
              "      <td>Israel withdraws from Gaza camp</td>\n",
              "      <td>Israel withdraws from Khan Younis refugee camp in the Gaza Strip, after a four-day operation that left 11 dead.</td>\n",
              "      <td>RealNews</td>\n",
              "      <td>FakeNews</td>\n",
              "    </tr>\n",
              "    <tr>\n",
              "      <th>7532</th>\n",
              "      <td>Pedro, GM welcome challenge that awaits</td>\n",
              "      <td>The Boston Red Sox could offer Pedro Martinez the still-dizzying celebration of a city that he helped to a historic World Series championship.</td>\n",
              "      <td>RealNews</td>\n",
              "      <td>FakeNews</td>\n",
              "    </tr>\n",
              "    <tr>\n",
              "      <th>7542</th>\n",
              "      <td>Boeing casts eyes on live TV over Connexion service</td>\n",
              "      <td>The Boeing Co. is planning to add live television to its Connexion by Boeing service during 2005, a company executive said in a recent interview.</td>\n",
              "      <td>RealNews</td>\n",
              "      <td>FakeNews</td>\n",
              "    </tr>\n",
              "  </tbody>\n",
              "</table>\n",
              "<p>346 rows × 4 columns</p>\n",
              "</div>"
            ],
            "text/plain": [
              "                                                                                title  ... DN_Label_Predicted\n",
              "2                                       Ky. Company Wins Grant to Study Peptides (AP)  ...           FakeNews\n",
              "32    Sister of man who died in Vancouver police custody slams chief (Canadian Press)  ...           FakeNews\n",
              "45                                       Drew Out of Braves' Lineup After Injury (AP)  ...           FakeNews\n",
              "49                                                           Another Major Non-Factor  ...           FakeNews\n",
              "68                                      Bobcats Trade Drobnjak to Hawks for Pick (AP)  ...           FakeNews\n",
              "...                                                                               ...  ...                ...\n",
              "7497                                                     HP drops Itanium development  ...           FakeNews\n",
              "7508                                    Parmalat Sues 45 Banks to Recover \\$4 Billion  ...           FakeNews\n",
              "7512                                                  Israel withdraws from Gaza camp  ...           FakeNews\n",
              "7532                                          Pedro, GM welcome challenge that awaits  ...           FakeNews\n",
              "7542                              Boeing casts eyes on live TV over Connexion service  ...           FakeNews\n",
              "\n",
              "[346 rows x 4 columns]"
            ]
          },
          "metadata": {
            "tags": []
          },
          "execution_count": 24
        }
      ]
    },
    {
      "cell_type": "code",
      "metadata": {
        "colab": {
          "base_uri": "https://localhost:8080/",
          "height": 423
        },
        "id": "u7x_7n-ZNXrN",
        "outputId": "95fc3924-c5a6-4f54-fbf3-ddbd079401e9"
      },
      "source": [
        "# Fake News ... and classified as Fake...\n",
        "test_df.loc[test_df.label.eq(1) & test_df.label_pred.eq(1), ['title', 'news', 'DN_Label', 'DN_Label_Predicted']]"
      ],
      "execution_count": 25,
      "outputs": [
        {
          "output_type": "execute_result",
          "data": {
            "text/html": [
              "<div>\n",
              "<style scoped>\n",
              "    .dataframe tbody tr th:only-of-type {\n",
              "        vertical-align: middle;\n",
              "    }\n",
              "\n",
              "    .dataframe tbody tr th {\n",
              "        vertical-align: top;\n",
              "    }\n",
              "\n",
              "    .dataframe thead th {\n",
              "        text-align: right;\n",
              "    }\n",
              "</style>\n",
              "<table border=\"1\" class=\"dataframe\">\n",
              "  <thead>\n",
              "    <tr style=\"text-align: right;\">\n",
              "      <th></th>\n",
              "      <th>title</th>\n",
              "      <th>news</th>\n",
              "      <th>DN_Label</th>\n",
              "      <th>DN_Label_Predicted</th>\n",
              "    </tr>\n",
              "  </thead>\n",
              "  <tbody>\n",
              "    <tr>\n",
              "      <th>7600</th>\n",
              "      <td>Fears for T N pension after talks</td>\n",
              "      <td>SAN FRANCISCO (Reuters) - The government has urged its members to hold talks with the government on a plan to reduce their pension liabilities, a report said on Thursday.</td>\n",
              "      <td>FakeNews</td>\n",
              "      <td>FakeNews</td>\n",
              "    </tr>\n",
              "    <tr>\n",
              "      <th>7601</th>\n",
              "      <td>The Race is On: Second Private Team Sets Launch Date for Human Spaceflight (SPACE.com)</td>\n",
              "      <td>SPACE.com - The second private team to launch a human spacecraft has set a date for the launch of the first human spacecraft, a move that will help the crew of the manned spacecraft to reach the moon.</td>\n",
              "      <td>FakeNews</td>\n",
              "      <td>FakeNews</td>\n",
              "    </tr>\n",
              "    <tr>\n",
              "      <th>7602</th>\n",
              "      <td>Ky. Company Wins Grant to Study Peptides (AP)</td>\n",
              "      <td>AP - A Kentucky company that has been studying peptides for more than a decade has won a grant to study the drug.</td>\n",
              "      <td>FakeNews</td>\n",
              "      <td>FakeNews</td>\n",
              "    </tr>\n",
              "    <tr>\n",
              "      <th>7603</th>\n",
              "      <td>Prediction Unit Helps Forecast Wildfires (AP)</td>\n",
              "      <td>AP - A new unit of the National Weather Service's forecasting unit has helped forecast wildfires in the United States and Canada.</td>\n",
              "      <td>FakeNews</td>\n",
              "      <td>FakeNews</td>\n",
              "    </tr>\n",
              "    <tr>\n",
              "      <th>7604</th>\n",
              "      <td>Calif. Aims to Limit Farm-Related Smog (AP)</td>\n",
              "      <td>AP - California's Environmental Protection Agency is aiming to limit the impact of smog on agriculture by reducing emissions from greenhouse gases, a federal agency said Tuesday.</td>\n",
              "      <td>FakeNews</td>\n",
              "      <td>FakeNews</td>\n",
              "    </tr>\n",
              "    <tr>\n",
              "      <th>...</th>\n",
              "      <td>...</td>\n",
              "      <td>...</td>\n",
              "      <td>...</td>\n",
              "      <td>...</td>\n",
              "    </tr>\n",
              "    <tr>\n",
              "      <th>15195</th>\n",
              "      <td>Around the world</td>\n",
              "      <td>The world #39;s biggest news agency is announcing that it will be releasing a new report on the global economy, a report that will be released in the coming weeks.</td>\n",
              "      <td>FakeNews</td>\n",
              "      <td>FakeNews</td>\n",
              "    </tr>\n",
              "    <tr>\n",
              "      <th>15196</th>\n",
              "      <td>Void is filled with Clement</td>\n",
              "      <td>The void is filled with Clement Clement, the savior of the savages.</td>\n",
              "      <td>FakeNews</td>\n",
              "      <td>FakeNews</td>\n",
              "    </tr>\n",
              "    <tr>\n",
              "      <th>15197</th>\n",
              "      <td>Martinez leaves bitter</td>\n",
              "      <td>The Spanish coach, who has been a key part of the team for the past two years, has left the club with a bittersweet end to his season.</td>\n",
              "      <td>FakeNews</td>\n",
              "      <td>FakeNews</td>\n",
              "    </tr>\n",
              "    <tr>\n",
              "      <th>15198</th>\n",
              "      <td>5 of arthritis patients in Singapore take Bextra or Celebrex &amp;lt;b&amp;gt;...&amp;lt;/b&amp;gt;</td>\n",
              "      <td>SAN FRANCISCO (Reuters) - Five of the five patients in Singapore who have arthritis take Bextra or Celebrex, the company said on Tuesday.</td>\n",
              "      <td>FakeNews</td>\n",
              "      <td>FakeNews</td>\n",
              "    </tr>\n",
              "    <tr>\n",
              "      <th>15199</th>\n",
              "      <td>EBay gets into rentals</td>\n",
              "      <td>EBay has entered into a deal with a rental company that will allow buyers to buy homes on the site.</td>\n",
              "      <td>FakeNews</td>\n",
              "      <td>FakeNews</td>\n",
              "    </tr>\n",
              "  </tbody>\n",
              "</table>\n",
              "<p>7595 rows × 4 columns</p>\n",
              "</div>"
            ],
            "text/plain": [
              "                                                                                        title  ... DN_Label_Predicted\n",
              "7600                                                        Fears for T N pension after talks  ...           FakeNews\n",
              "7601   The Race is On: Second Private Team Sets Launch Date for Human Spaceflight (SPACE.com)  ...           FakeNews\n",
              "7602                                            Ky. Company Wins Grant to Study Peptides (AP)  ...           FakeNews\n",
              "7603                                            Prediction Unit Helps Forecast Wildfires (AP)  ...           FakeNews\n",
              "7604                                              Calif. Aims to Limit Farm-Related Smog (AP)  ...           FakeNews\n",
              "...                                                                                       ...  ...                ...\n",
              "15195                                                                        Around the world  ...           FakeNews\n",
              "15196                                                             Void is filled with Clement  ...           FakeNews\n",
              "15197                                                                  Martinez leaves bitter  ...           FakeNews\n",
              "15198     5 of arthritis patients in Singapore take Bextra or Celebrex &lt;b&gt;...&lt;/b&gt;  ...           FakeNews\n",
              "15199                                                                  EBay gets into rentals  ...           FakeNews\n",
              "\n",
              "[7595 rows x 4 columns]"
            ]
          },
          "metadata": {
            "tags": []
          },
          "execution_count": 25
        }
      ]
    },
    {
      "cell_type": "code",
      "metadata": {
        "id": "-6xswD3NDEmz",
        "colab": {
          "base_uri": "https://localhost:8080/",
          "height": 197
        },
        "outputId": "d65ce58a-a66d-4374-bf58-3599a69036a0"
      },
      "source": [
        "# Fake News ... but classified as Real...\n",
        "test_df.loc[test_df.label.eq(1) & test_df.label_pred.eq(0), ['title', 'news', 'DN_Label', 'DN_Label_Predicted']]"
      ],
      "execution_count": 26,
      "outputs": [
        {
          "output_type": "execute_result",
          "data": {
            "text/html": [
              "<div>\n",
              "<style scoped>\n",
              "    .dataframe tbody tr th:only-of-type {\n",
              "        vertical-align: middle;\n",
              "    }\n",
              "\n",
              "    .dataframe tbody tr th {\n",
              "        vertical-align: top;\n",
              "    }\n",
              "\n",
              "    .dataframe thead th {\n",
              "        text-align: right;\n",
              "    }\n",
              "</style>\n",
              "<table border=\"1\" class=\"dataframe\">\n",
              "  <thead>\n",
              "    <tr style=\"text-align: right;\">\n",
              "      <th></th>\n",
              "      <th>title</th>\n",
              "      <th>news</th>\n",
              "      <th>DN_Label</th>\n",
              "      <th>DN_Label_Predicted</th>\n",
              "    </tr>\n",
              "  </thead>\n",
              "  <tbody>\n",
              "    <tr>\n",
              "      <th>7911</th>\n",
              "      <td>French Take Gold, Bronze in Single Kayak</td>\n",
              "      <td>French sailors took gold and bronze in the single kayaking event at the Yokohama International Speedway on Saturday.</td>\n",
              "      <td>FakeNews</td>\n",
              "      <td>RealNews</td>\n",
              "    </tr>\n",
              "    <tr>\n",
              "      <th>9148</th>\n",
              "      <td>Post-Olympic Greece tightens purse, sells family silver to fill budget holes (AFP)</td>\n",
              "      <td>AFP - Greece tightened its purse after the Olympics, selling family silver to fill budget holes.</td>\n",
              "      <td>FakeNews</td>\n",
              "      <td>RealNews</td>\n",
              "    </tr>\n",
              "    <tr>\n",
              "      <th>9499</th>\n",
              "      <td>-Posted by dave.rosenberg  1:51 pm (PDT)</td>\n",
              "      <td>-Posted by dave.rosenberg 1:51 pm (PDT) on Friday, November 21, 2004.</td>\n",
              "      <td>FakeNews</td>\n",
              "      <td>RealNews</td>\n",
              "    </tr>\n",
              "    <tr>\n",
              "      <th>12551</th>\n",
              "      <td>Spanish flyer: Markko Martin steers his Ford Focus during the &amp;lt;b&amp;gt;...&amp;lt;/b&amp;gt;</td>\n",
              "      <td>Markko Martin, the Spanish driver of the Focus, swung his Ford Focus into the air during the &amp;lt;b&amp;gt;Full Circle of Excellence in the International Air Race.</td>\n",
              "      <td>FakeNews</td>\n",
              "      <td>RealNews</td>\n",
              "    </tr>\n",
              "    <tr>\n",
              "      <th>13916</th>\n",
              "      <td>Serbia, Bosnian Serbs Fail to Help War Crimes Tribunal, UN Says</td>\n",
              "      <td>The UN says Serbia and Bosnian Serbs have failed to help the tribunal that tried war crimes cases in Bosnia and Herzegovina.</td>\n",
              "      <td>FakeNews</td>\n",
              "      <td>RealNews</td>\n",
              "    </tr>\n",
              "  </tbody>\n",
              "</table>\n",
              "</div>"
            ],
            "text/plain": [
              "                                                                                      title  ... DN_Label_Predicted\n",
              "7911                                               French Take Gold, Bronze in Single Kayak  ...           RealNews\n",
              "9148     Post-Olympic Greece tightens purse, sells family silver to fill budget holes (AFP)  ...           RealNews\n",
              "9499                                               -Posted by dave.rosenberg  1:51 pm (PDT)  ...           RealNews\n",
              "12551  Spanish flyer: Markko Martin steers his Ford Focus during the &lt;b&gt;...&lt;/b&gt;  ...           RealNews\n",
              "13916                       Serbia, Bosnian Serbs Fail to Help War Crimes Tribunal, UN Says  ...           RealNews\n",
              "\n",
              "[5 rows x 4 columns]"
            ]
          },
          "metadata": {
            "tags": []
          },
          "execution_count": 26
        }
      ]
    }
  ]
}